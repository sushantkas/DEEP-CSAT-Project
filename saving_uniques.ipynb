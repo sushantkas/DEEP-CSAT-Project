{
 "cells": [
  {
   "cell_type": "code",
   "execution_count": 1,
   "id": "9f8a0e79",
   "metadata": {},
   "outputs": [],
   "source": [
    "import pandas as pd"
   ]
  },
  {
   "cell_type": "code",
   "execution_count": 2,
   "id": "0cb798f7",
   "metadata": {},
   "outputs": [],
   "source": [
    "data=pd.read_csv(\"eCommerce_Customer_support_data.csv\")"
   ]
  },
  {
   "cell_type": "code",
   "execution_count": 4,
   "id": "ea628297",
   "metadata": {},
   "outputs": [
    {
     "data": {
      "text/plain": [
       "array(['Richard Buchanan', 'Vicki Collins', 'Duane Norman', ...,\n",
       "       'Madison Flores', 'Brenda Gillespie', 'Kristina Gutierrez'],\n",
       "      shape=(1371,), dtype=object)"
      ]
     },
     "execution_count": 4,
     "metadata": {},
     "output_type": "execute_result"
    }
   ],
   "source": [
    "data[\"Agent_name\"].unique()"
   ]
  },
  {
   "cell_type": "code",
   "execution_count": 5,
   "id": "f70061ae",
   "metadata": {},
   "outputs": [],
   "source": [
    "agent_names=data[\"Agent_name\"].unique()"
   ]
  },
  {
   "cell_type": "code",
   "execution_count": 12,
   "id": "8fe008c6",
   "metadata": {},
   "outputs": [
    {
     "data": {
      "text/plain": [
       "array(['Jennifer Nguyen', 'Michael Lee', 'William Kim', 'John Smith',\n",
       "       'Olivia Tan', 'Emily Chen'], dtype=object)"
      ]
     },
     "execution_count": 12,
     "metadata": {},
     "output_type": "execute_result"
    }
   ],
   "source": [
    "data[\"Manager\"].unique()"
   ]
  },
  {
   "cell_type": "code",
   "execution_count": null,
   "id": "c7480c1a",
   "metadata": {},
   "outputs": [],
   "source": [
    "supervidors=data[\"Supervisor\"].unique()"
   ]
  },
  {
   "cell_type": "code",
   "execution_count": 6,
   "id": "7a2cc6f3",
   "metadata": {},
   "outputs": [],
   "source": [
    "new_df=pd.DataFrame(agent_names,columns=[\"Agent_name\"])"
   ]
  },
  {
   "cell_type": "code",
   "execution_count": 9,
   "id": "d97e557a",
   "metadata": {},
   "outputs": [
    {
     "data": {
      "text/html": [
       "<div>\n",
       "<style scoped>\n",
       "    .dataframe tbody tr th:only-of-type {\n",
       "        vertical-align: middle;\n",
       "    }\n",
       "\n",
       "    .dataframe tbody tr th {\n",
       "        vertical-align: top;\n",
       "    }\n",
       "\n",
       "    .dataframe thead th {\n",
       "        text-align: right;\n",
       "    }\n",
       "</style>\n",
       "<table border=\"1\" class=\"dataframe\">\n",
       "  <thead>\n",
       "    <tr style=\"text-align: right;\">\n",
       "      <th></th>\n",
       "      <th>Agent_name</th>\n",
       "    </tr>\n",
       "  </thead>\n",
       "  <tbody>\n",
       "    <tr>\n",
       "      <th>0</th>\n",
       "      <td>Richard Buchanan</td>\n",
       "    </tr>\n",
       "    <tr>\n",
       "      <th>1</th>\n",
       "      <td>Vicki Collins</td>\n",
       "    </tr>\n",
       "    <tr>\n",
       "      <th>2</th>\n",
       "      <td>Duane Norman</td>\n",
       "    </tr>\n",
       "    <tr>\n",
       "      <th>3</th>\n",
       "      <td>Patrick Flores</td>\n",
       "    </tr>\n",
       "    <tr>\n",
       "      <th>4</th>\n",
       "      <td>Christopher Sanchez</td>\n",
       "    </tr>\n",
       "    <tr>\n",
       "      <th>...</th>\n",
       "      <td>...</td>\n",
       "    </tr>\n",
       "    <tr>\n",
       "      <th>1366</th>\n",
       "      <td>Chad Wells</td>\n",
       "    </tr>\n",
       "    <tr>\n",
       "      <th>1367</th>\n",
       "      <td>Donna Lee</td>\n",
       "    </tr>\n",
       "    <tr>\n",
       "      <th>1368</th>\n",
       "      <td>Madison Flores</td>\n",
       "    </tr>\n",
       "    <tr>\n",
       "      <th>1369</th>\n",
       "      <td>Brenda Gillespie</td>\n",
       "    </tr>\n",
       "    <tr>\n",
       "      <th>1370</th>\n",
       "      <td>Kristina Gutierrez</td>\n",
       "    </tr>\n",
       "  </tbody>\n",
       "</table>\n",
       "<p>1371 rows × 1 columns</p>\n",
       "</div>"
      ],
      "text/plain": [
       "               Agent_name\n",
       "0        Richard Buchanan\n",
       "1           Vicki Collins\n",
       "2            Duane Norman\n",
       "3          Patrick Flores\n",
       "4     Christopher Sanchez\n",
       "...                   ...\n",
       "1366           Chad Wells\n",
       "1367            Donna Lee\n",
       "1368       Madison Flores\n",
       "1369     Brenda Gillespie\n",
       "1370   Kristina Gutierrez\n",
       "\n",
       "[1371 rows x 1 columns]"
      ]
     },
     "execution_count": 9,
     "metadata": {},
     "output_type": "execute_result"
    }
   ],
   "source": [
    "new_df"
   ]
  },
  {
   "cell_type": "code",
   "execution_count": 8,
   "id": "fc1ddfae",
   "metadata": {},
   "outputs": [],
   "source": [
    "new_df.to_csv(\"uniques.csv\",index=False)"
   ]
  },
  {
   "cell_type": "code",
   "execution_count": 15,
   "id": "05dd8adb",
   "metadata": {},
   "outputs": [],
   "source": [
    "city=data[\"Customer_City\"].unique()"
   ]
  },
  {
   "cell_type": "code",
   "execution_count": 18,
   "id": "1e35f3e9",
   "metadata": {},
   "outputs": [],
   "source": [
    "city_df=pd.DataFrame(city,columns=[\"Customer_City\"])\n",
    "city_df.to_csv(\"customer_city.csv\",index=False)"
   ]
  },
  {
   "cell_type": "code",
   "execution_count": 19,
   "id": "b3df9991",
   "metadata": {},
   "outputs": [
    {
     "data": {
      "text/plain": [
       "Index(['Unique id', 'channel_name', 'category', 'Sub-category',\n",
       "       'Customer Remarks', 'Order_id', 'order_date_time', 'Issue_reported at',\n",
       "       'issue_responded', 'Survey_response_Date', 'Customer_City',\n",
       "       'Product_category', 'Item_price', 'connected_handling_time',\n",
       "       'Agent_name', 'Supervisor', 'Manager', 'Tenure Bucket', 'Agent Shift',\n",
       "       'CSAT Score'],\n",
       "      dtype='object')"
      ]
     },
     "execution_count": 19,
     "metadata": {},
     "output_type": "execute_result"
    }
   ],
   "source": [
    "data.columns"
   ]
  },
  {
   "cell_type": "code",
   "execution_count": 22,
   "id": "cb74e20b",
   "metadata": {},
   "outputs": [],
   "source": [
    "testdata=data.drop(\"CSAT Score\", axis=1)\n",
    "testdata=testdata.head(500)"
   ]
  },
  {
   "cell_type": "code",
   "execution_count": null,
   "id": "6bf8c0ca",
   "metadata": {},
   "outputs": [],
   "source": []
  },
  {
   "cell_type": "code",
   "execution_count": 28,
   "id": "3ee77bae",
   "metadata": {},
   "outputs": [],
   "source": [
    "testdata.set_index(\"Unique id\", inplace=True)\n",
    "testdata.to_csv(\"testdata.csv\", index=\"Unique id\")"
   ]
  },
  {
   "cell_type": "code",
   "execution_count": null,
   "id": "60a3c5da",
   "metadata": {},
   "outputs": [],
   "source": []
  }
 ],
 "metadata": {
  "kernelspec": {
   "display_name": "csat",
   "language": "python",
   "name": "python3"
  },
  "language_info": {
   "codemirror_mode": {
    "name": "ipython",
    "version": 3
   },
   "file_extension": ".py",
   "mimetype": "text/x-python",
   "name": "python",
   "nbconvert_exporter": "python",
   "pygments_lexer": "ipython3",
   "version": "3.12.6"
  }
 },
 "nbformat": 4,
 "nbformat_minor": 5
}
