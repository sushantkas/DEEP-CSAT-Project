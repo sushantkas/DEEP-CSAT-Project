{
 "cells": [
  {
   "cell_type": "code",
   "execution_count": 1,
   "id": "2960d6c2",
   "metadata": {},
   "outputs": [],
   "source": [
    "import pandas as pd\n",
    "import seaborn as sns\n",
    "import csat_preprocessig\n",
    "from csat_preprocessig import csat_preprocessing\n",
    "import warnings\n",
    "import importlib\n",
    "warnings.filterwarnings(\"ignore\")\n",
    "importlib.reload(csat_preprocessig)\n",
    "import pickle\n",
    "import numpy as np\n"
   ]
  },
  {
   "cell_type": "code",
   "execution_count": 2,
   "id": "bba56903",
   "metadata": {},
   "outputs": [],
   "source": [
    "cdata=pd.read_csv(\"eCommerce_Customer_support_data.csv\")"
   ]
  },
  {
   "cell_type": "code",
   "execution_count": 3,
   "id": "b149d878",
   "metadata": {},
   "outputs": [],
   "source": [
    "data=pd.read_csv(\"eCommerce_Customer_support_data.csv\")"
   ]
  },
  {
   "cell_type": "code",
   "execution_count": 53,
   "id": "b4c3b96e",
   "metadata": {},
   "outputs": [
    {
     "data": {
      "text/html": [
       "<div>\n",
       "<style scoped>\n",
       "    .dataframe tbody tr th:only-of-type {\n",
       "        vertical-align: middle;\n",
       "    }\n",
       "\n",
       "    .dataframe tbody tr th {\n",
       "        vertical-align: top;\n",
       "    }\n",
       "\n",
       "    .dataframe thead th {\n",
       "        text-align: right;\n",
       "    }\n",
       "</style>\n",
       "<table border=\"1\" class=\"dataframe\">\n",
       "  <thead>\n",
       "    <tr style=\"text-align: right;\">\n",
       "      <th></th>\n",
       "      <th>Unique id</th>\n",
       "      <th>channel_name</th>\n",
       "      <th>category</th>\n",
       "      <th>Sub-category</th>\n",
       "      <th>Customer Remarks</th>\n",
       "      <th>Order_id</th>\n",
       "      <th>order_date_time</th>\n",
       "      <th>Issue_reported at</th>\n",
       "      <th>issue_responded</th>\n",
       "      <th>Survey_response_Date</th>\n",
       "      <th>Customer_City</th>\n",
       "      <th>Product_category</th>\n",
       "      <th>Item_price</th>\n",
       "      <th>connected_handling_time</th>\n",
       "      <th>Agent_name</th>\n",
       "      <th>Supervisor</th>\n",
       "      <th>Manager</th>\n",
       "      <th>Tenure Bucket</th>\n",
       "      <th>Agent Shift</th>\n",
       "      <th>CSAT Score</th>\n",
       "    </tr>\n",
       "  </thead>\n",
       "  <tbody>\n",
       "    <tr>\n",
       "      <th>0</th>\n",
       "      <td>7e9ae164-6a8b-4521-a2d4-58f7c9fff13f</td>\n",
       "      <td>Outcall</td>\n",
       "      <td>Product Queries</td>\n",
       "      <td>Life Insurance</td>\n",
       "      <td>NaN</td>\n",
       "      <td>c27c9bb4-fa36-4140-9f1f-21009254ffdb</td>\n",
       "      <td>NaN</td>\n",
       "      <td>01/08/2023 11:13</td>\n",
       "      <td>01/08/2023 11:47</td>\n",
       "      <td>01-Aug-23</td>\n",
       "      <td>NaN</td>\n",
       "      <td>NaN</td>\n",
       "      <td>NaN</td>\n",
       "      <td>NaN</td>\n",
       "      <td>Richard Buchanan</td>\n",
       "      <td>Mason Gupta</td>\n",
       "      <td>Jennifer Nguyen</td>\n",
       "      <td>On Job Training</td>\n",
       "      <td>Morning</td>\n",
       "      <td>5</td>\n",
       "    </tr>\n",
       "    <tr>\n",
       "      <th>1</th>\n",
       "      <td>b07ec1b0-f376-43b6-86df-ec03da3b2e16</td>\n",
       "      <td>Outcall</td>\n",
       "      <td>Product Queries</td>\n",
       "      <td>Product Specific Information</td>\n",
       "      <td>NaN</td>\n",
       "      <td>d406b0c7-ce17-4654-b9de-f08d421254bd</td>\n",
       "      <td>NaN</td>\n",
       "      <td>01/08/2023 12:52</td>\n",
       "      <td>01/08/2023 12:54</td>\n",
       "      <td>01-Aug-23</td>\n",
       "      <td>NaN</td>\n",
       "      <td>NaN</td>\n",
       "      <td>NaN</td>\n",
       "      <td>NaN</td>\n",
       "      <td>Vicki Collins</td>\n",
       "      <td>Dylan Kim</td>\n",
       "      <td>Michael Lee</td>\n",
       "      <td>&gt;90</td>\n",
       "      <td>Morning</td>\n",
       "      <td>5</td>\n",
       "    </tr>\n",
       "  </tbody>\n",
       "</table>\n",
       "</div>"
      ],
      "text/plain": [
       "                              Unique id channel_name         category  \\\n",
       "0  7e9ae164-6a8b-4521-a2d4-58f7c9fff13f      Outcall  Product Queries   \n",
       "1  b07ec1b0-f376-43b6-86df-ec03da3b2e16      Outcall  Product Queries   \n",
       "\n",
       "                   Sub-category Customer Remarks  \\\n",
       "0                Life Insurance              NaN   \n",
       "1  Product Specific Information              NaN   \n",
       "\n",
       "                               Order_id order_date_time Issue_reported at  \\\n",
       "0  c27c9bb4-fa36-4140-9f1f-21009254ffdb             NaN  01/08/2023 11:13   \n",
       "1  d406b0c7-ce17-4654-b9de-f08d421254bd             NaN  01/08/2023 12:52   \n",
       "\n",
       "    issue_responded Survey_response_Date Customer_City Product_category  \\\n",
       "0  01/08/2023 11:47            01-Aug-23           NaN              NaN   \n",
       "1  01/08/2023 12:54            01-Aug-23           NaN              NaN   \n",
       "\n",
       "   Item_price  connected_handling_time        Agent_name   Supervisor  \\\n",
       "0         NaN                      NaN  Richard Buchanan  Mason Gupta   \n",
       "1         NaN                      NaN     Vicki Collins    Dylan Kim   \n",
       "\n",
       "           Manager    Tenure Bucket Agent Shift  CSAT Score  \n",
       "0  Jennifer Nguyen  On Job Training     Morning           5  \n",
       "1      Michael Lee              >90     Morning           5  "
      ]
     },
     "execution_count": 53,
     "metadata": {},
     "output_type": "execute_result"
    }
   ],
   "source": [
    "data.head(2)"
   ]
  },
  {
   "cell_type": "code",
   "execution_count": 58,
   "id": "567bbd9b",
   "metadata": {},
   "outputs": [
    {
     "data": {
      "text/plain": [
       "Index(['Unique id', 'channel_name', 'category', 'Sub-category',\n",
       "       'Customer Remarks', 'Order_id', 'order_date_time', 'Issue_reported at',\n",
       "       'issue_responded', 'Survey_response_Date', 'Customer_City',\n",
       "       'Product_category', 'Item_price', 'connected_handling_time',\n",
       "       'Agent_name', 'Supervisor', 'Manager', 'Tenure Bucket', 'Agent Shift',\n",
       "       'CSAT Score'],\n",
       "      dtype='object')"
      ]
     },
     "execution_count": 58,
     "metadata": {},
     "output_type": "execute_result"
    }
   ],
   "source": [
    "data.columns"
   ]
  },
  {
   "cell_type": "code",
   "execution_count": 71,
   "id": "a362a8ba",
   "metadata": {},
   "outputs": [
    {
     "data": {
      "text/plain": [
       "array(['Morning', 'Evening', 'Split', 'Afternoon', 'Night'], dtype=object)"
      ]
     },
     "execution_count": 71,
     "metadata": {},
     "output_type": "execute_result"
    }
   ],
   "source": [
    "data[\"Agent Shift\"].unique()"
   ]
  },
  {
   "cell_type": "code",
   "execution_count": null,
   "id": "498bf0ee",
   "metadata": {},
   "outputs": [
    {
     "data": {
      "text/html": [
       "<div>\n",
       "<style scoped>\n",
       "    .dataframe tbody tr th:only-of-type {\n",
       "        vertical-align: middle;\n",
       "    }\n",
       "\n",
       "    .dataframe tbody tr th {\n",
       "        vertical-align: top;\n",
       "    }\n",
       "\n",
       "    .dataframe thead th {\n",
       "        text-align: right;\n",
       "    }\n",
       "</style>\n",
       "<table border=\"1\" class=\"dataframe\">\n",
       "  <thead>\n",
       "    <tr style=\"text-align: right;\">\n",
       "      <th></th>\n",
       "      <th>Item_price</th>\n",
       "      <th>connected_handling_time</th>\n",
       "      <th>CSAT Score</th>\n",
       "    </tr>\n",
       "  </thead>\n",
       "  <tbody>\n",
       "    <tr>\n",
       "      <th>count</th>\n",
       "      <td>17206.000000</td>\n",
       "      <td>242.000000</td>\n",
       "      <td>85907.000000</td>\n",
       "    </tr>\n",
       "    <tr>\n",
       "      <th>mean</th>\n",
       "      <td>5660.774846</td>\n",
       "      <td>462.400826</td>\n",
       "      <td>4.242157</td>\n",
       "    </tr>\n",
       "    <tr>\n",
       "      <th>std</th>\n",
       "      <td>12825.728411</td>\n",
       "      <td>246.295037</td>\n",
       "      <td>1.378903</td>\n",
       "    </tr>\n",
       "    <tr>\n",
       "      <th>min</th>\n",
       "      <td>0.000000</td>\n",
       "      <td>0.000000</td>\n",
       "      <td>1.000000</td>\n",
       "    </tr>\n",
       "    <tr>\n",
       "      <th>25%</th>\n",
       "      <td>392.000000</td>\n",
       "      <td>293.000000</td>\n",
       "      <td>4.000000</td>\n",
       "    </tr>\n",
       "    <tr>\n",
       "      <th>50%</th>\n",
       "      <td>979.000000</td>\n",
       "      <td>427.000000</td>\n",
       "      <td>5.000000</td>\n",
       "    </tr>\n",
       "    <tr>\n",
       "      <th>75%</th>\n",
       "      <td>2699.750000</td>\n",
       "      <td>592.250000</td>\n",
       "      <td>5.000000</td>\n",
       "    </tr>\n",
       "    <tr>\n",
       "      <th>max</th>\n",
       "      <td>164999.000000</td>\n",
       "      <td>1986.000000</td>\n",
       "      <td>5.000000</td>\n",
       "    </tr>\n",
       "  </tbody>\n",
       "</table>\n",
       "</div>"
      ],
      "text/plain": [
       "          Item_price  connected_handling_time    CSAT Score\n",
       "count   17206.000000               242.000000  85907.000000\n",
       "mean     5660.774846               462.400826      4.242157\n",
       "std     12825.728411               246.295037      1.378903\n",
       "min         0.000000                 0.000000      1.000000\n",
       "25%       392.000000               293.000000      4.000000\n",
       "50%       979.000000               427.000000      5.000000\n",
       "75%      2699.750000               592.250000      5.000000\n",
       "max    164999.000000              1986.000000      5.000000"
      ]
     },
     "execution_count": 63,
     "metadata": {},
     "output_type": "execute_result"
    }
   ],
   "source": [
    "data.describe()"
   ]
  },
  {
   "cell_type": "code",
   "execution_count": 4,
   "id": "3bf9687e",
   "metadata": {},
   "outputs": [
    {
     "name": "stderr",
     "output_type": "stream",
     "text": [
      "2025-10-20 07:44:05.378 WARNING streamlit.runtime.scriptrunner_utils.script_run_context: Thread 'MainThread': missing ScriptRunContext! This warning can be ignored when running in bare mode.\n",
      "2025-10-20 07:44:07.614 \n",
      "  \u001b[33m\u001b[1mWarning:\u001b[0m to view this Streamlit app on a browser, run it with the following\n",
      "  command:\n",
      "\n",
      "    streamlit run e:\\Labmentrix\\Projects\\Project 4\\DEEP-CSAT Project\\csat\\Lib\\site-packages\\ipykernel_launcher.py [ARGUMENTS]\n",
      "2025-10-20 07:44:07.616 Thread 'MainThread': missing ScriptRunContext! This warning can be ignored when running in bare mode.\n",
      "2025-10-20 07:44:07.616 Thread 'MainThread': missing ScriptRunContext! This warning can be ignored when running in bare mode.\n",
      "2025-10-20 07:44:07.617 Thread 'MainThread': missing ScriptRunContext! This warning can be ignored when running in bare mode.\n",
      "2025-10-20 07:44:07.619 Thread 'MainThread': missing ScriptRunContext! This warning can be ignored when running in bare mode.\n",
      "2025-10-20 07:44:07.619 Thread 'MainThread': missing ScriptRunContext! This warning can be ignored when running in bare mode.\n"
     ]
    }
   ],
   "source": [
    "cdata=csat_preprocessing(pd.read_csv(\"eCommerce_Customer_support_data.csv\")).preprocessed()"
   ]
  },
  {
   "cell_type": "code",
   "execution_count": 5,
   "id": "57f0fca5",
   "metadata": {},
   "outputs": [
    {
     "data": {
      "text/html": [
       "<div>\n",
       "<style scoped>\n",
       "    .dataframe tbody tr th:only-of-type {\n",
       "        vertical-align: middle;\n",
       "    }\n",
       "\n",
       "    .dataframe tbody tr th {\n",
       "        vertical-align: top;\n",
       "    }\n",
       "\n",
       "    .dataframe thead th {\n",
       "        text-align: right;\n",
       "    }\n",
       "</style>\n",
       "<table border=\"1\" class=\"dataframe\">\n",
       "  <thead>\n",
       "    <tr style=\"text-align: right;\">\n",
       "      <th></th>\n",
       "      <th>channel_name</th>\n",
       "      <th>category</th>\n",
       "      <th>sub-category</th>\n",
       "      <th>customer_remarks</th>\n",
       "      <th>order_id</th>\n",
       "      <th>order_date_time</th>\n",
       "      <th>issue_reported_at</th>\n",
       "      <th>issue_responded</th>\n",
       "      <th>survey_response_date</th>\n",
       "      <th>customer_city</th>\n",
       "      <th>...</th>\n",
       "      <th>connected_handling_time</th>\n",
       "      <th>agent_name</th>\n",
       "      <th>supervisor</th>\n",
       "      <th>manager</th>\n",
       "      <th>tenure_bucket</th>\n",
       "      <th>agent_shift</th>\n",
       "      <th>csat_score</th>\n",
       "      <th>sentiment_score</th>\n",
       "      <th>issue_resolution_time</th>\n",
       "      <th>survey_response_time</th>\n",
       "    </tr>\n",
       "    <tr>\n",
       "      <th>Unique id</th>\n",
       "      <th></th>\n",
       "      <th></th>\n",
       "      <th></th>\n",
       "      <th></th>\n",
       "      <th></th>\n",
       "      <th></th>\n",
       "      <th></th>\n",
       "      <th></th>\n",
       "      <th></th>\n",
       "      <th></th>\n",
       "      <th></th>\n",
       "      <th></th>\n",
       "      <th></th>\n",
       "      <th></th>\n",
       "      <th></th>\n",
       "      <th></th>\n",
       "      <th></th>\n",
       "      <th></th>\n",
       "      <th></th>\n",
       "      <th></th>\n",
       "      <th></th>\n",
       "    </tr>\n",
       "  </thead>\n",
       "  <tbody>\n",
       "    <tr>\n",
       "      <th>7e9ae164-6a8b-4521-a2d4-58f7c9fff13f</th>\n",
       "      <td>2.0</td>\n",
       "      <td>8.0</td>\n",
       "      <td>19.0</td>\n",
       "      <td>No_Remarks</td>\n",
       "      <td>c27c9bb4-fa36-4140-9f1f-21009254ffdb</td>\n",
       "      <td>NaN</td>\n",
       "      <td>01/08/2023 11:13</td>\n",
       "      <td>01/08/2023 11:47</td>\n",
       "      <td>01-Aug-23</td>\n",
       "      <td>684.0</td>\n",
       "      <td>...</td>\n",
       "      <td>433.0</td>\n",
       "      <td>1072.0</td>\n",
       "      <td>26.0</td>\n",
       "      <td>1.0</td>\n",
       "      <td>4.0</td>\n",
       "      <td>2.0</td>\n",
       "      <td>5</td>\n",
       "      <td>0.4215</td>\n",
       "      <td>34.0</td>\n",
       "      <td>0.0</td>\n",
       "    </tr>\n",
       "    <tr>\n",
       "      <th>b07ec1b0-f376-43b6-86df-ec03da3b2e16</th>\n",
       "      <td>2.0</td>\n",
       "      <td>8.0</td>\n",
       "      <td>34.0</td>\n",
       "      <td>No_Remarks</td>\n",
       "      <td>d406b0c7-ce17-4654-b9de-f08d421254bd</td>\n",
       "      <td>NaN</td>\n",
       "      <td>01/08/2023 12:52</td>\n",
       "      <td>01/08/2023 12:54</td>\n",
       "      <td>01-Aug-23</td>\n",
       "      <td>684.0</td>\n",
       "      <td>...</td>\n",
       "      <td>408.2</td>\n",
       "      <td>1323.0</td>\n",
       "      <td>9.0</td>\n",
       "      <td>3.0</td>\n",
       "      <td>3.0</td>\n",
       "      <td>2.0</td>\n",
       "      <td>5</td>\n",
       "      <td>0.4215</td>\n",
       "      <td>2.0</td>\n",
       "      <td>0.0</td>\n",
       "    </tr>\n",
       "  </tbody>\n",
       "</table>\n",
       "<p>2 rows × 22 columns</p>\n",
       "</div>"
      ],
      "text/plain": [
       "                                      channel_name  category  sub-category  \\\n",
       "Unique id                                                                    \n",
       "7e9ae164-6a8b-4521-a2d4-58f7c9fff13f           2.0       8.0          19.0   \n",
       "b07ec1b0-f376-43b6-86df-ec03da3b2e16           2.0       8.0          34.0   \n",
       "\n",
       "                                     customer_remarks  \\\n",
       "Unique id                                               \n",
       "7e9ae164-6a8b-4521-a2d4-58f7c9fff13f       No_Remarks   \n",
       "b07ec1b0-f376-43b6-86df-ec03da3b2e16       No_Remarks   \n",
       "\n",
       "                                                                  order_id  \\\n",
       "Unique id                                                                    \n",
       "7e9ae164-6a8b-4521-a2d4-58f7c9fff13f  c27c9bb4-fa36-4140-9f1f-21009254ffdb   \n",
       "b07ec1b0-f376-43b6-86df-ec03da3b2e16  d406b0c7-ce17-4654-b9de-f08d421254bd   \n",
       "\n",
       "                                     order_date_time issue_reported_at  \\\n",
       "Unique id                                                                \n",
       "7e9ae164-6a8b-4521-a2d4-58f7c9fff13f             NaN  01/08/2023 11:13   \n",
       "b07ec1b0-f376-43b6-86df-ec03da3b2e16             NaN  01/08/2023 12:52   \n",
       "\n",
       "                                       issue_responded survey_response_date  \\\n",
       "Unique id                                                                     \n",
       "7e9ae164-6a8b-4521-a2d4-58f7c9fff13f  01/08/2023 11:47            01-Aug-23   \n",
       "b07ec1b0-f376-43b6-86df-ec03da3b2e16  01/08/2023 12:54            01-Aug-23   \n",
       "\n",
       "                                      customer_city  ...  \\\n",
       "Unique id                                            ...   \n",
       "7e9ae164-6a8b-4521-a2d4-58f7c9fff13f          684.0  ...   \n",
       "b07ec1b0-f376-43b6-86df-ec03da3b2e16          684.0  ...   \n",
       "\n",
       "                                      connected_handling_time  agent_name  \\\n",
       "Unique id                                                                   \n",
       "7e9ae164-6a8b-4521-a2d4-58f7c9fff13f                    433.0      1072.0   \n",
       "b07ec1b0-f376-43b6-86df-ec03da3b2e16                    408.2      1323.0   \n",
       "\n",
       "                                      supervisor  manager  tenure_bucket  \\\n",
       "Unique id                                                                  \n",
       "7e9ae164-6a8b-4521-a2d4-58f7c9fff13f        26.0      1.0            4.0   \n",
       "b07ec1b0-f376-43b6-86df-ec03da3b2e16         9.0      3.0            3.0   \n",
       "\n",
       "                                      agent_shift  csat_score  \\\n",
       "Unique id                                                       \n",
       "7e9ae164-6a8b-4521-a2d4-58f7c9fff13f          2.0           5   \n",
       "b07ec1b0-f376-43b6-86df-ec03da3b2e16          2.0           5   \n",
       "\n",
       "                                      sentiment_score  issue_resolution_time  \\\n",
       "Unique id                                                                      \n",
       "7e9ae164-6a8b-4521-a2d4-58f7c9fff13f           0.4215                   34.0   \n",
       "b07ec1b0-f376-43b6-86df-ec03da3b2e16           0.4215                    2.0   \n",
       "\n",
       "                                      survey_response_time  \n",
       "Unique id                                                   \n",
       "7e9ae164-6a8b-4521-a2d4-58f7c9fff13f                   0.0  \n",
       "b07ec1b0-f376-43b6-86df-ec03da3b2e16                   0.0  \n",
       "\n",
       "[2 rows x 22 columns]"
      ]
     },
     "execution_count": 5,
     "metadata": {},
     "output_type": "execute_result"
    }
   ],
   "source": [
    "cdata.head(2)"
   ]
  },
  {
   "cell_type": "code",
   "execution_count": 6,
   "id": "3d6e3d60",
   "metadata": {},
   "outputs": [
    {
     "name": "stdout",
     "output_type": "stream",
     "text": [
      "<class 'pandas.core.frame.DataFrame'>\n",
      "Index: 85906 entries, 7e9ae164-6a8b-4521-a2d4-58f7c9fff13f to 07c7a878-0d5a-42e0-97ef-de59abec0238\n",
      "Data columns (total 22 columns):\n",
      " #   Column                   Non-Null Count  Dtype  \n",
      "---  ------                   --------------  -----  \n",
      " 0   channel_name             85906 non-null  float64\n",
      " 1   category                 85906 non-null  float64\n",
      " 2   sub-category             85906 non-null  float64\n",
      " 3   customer_remarks         85906 non-null  object \n",
      " 4   order_id                 67675 non-null  object \n",
      " 5   order_date_time          17214 non-null  object \n",
      " 6   issue_reported_at        85906 non-null  object \n",
      " 7   issue_responded          85906 non-null  object \n",
      " 8   survey_response_date     85906 non-null  object \n",
      " 9   customer_city            85906 non-null  float64\n",
      " 10  product_category         85906 non-null  float64\n",
      " 11  item_price               85906 non-null  float64\n",
      " 12  connected_handling_time  85906 non-null  float64\n",
      " 13  agent_name               85906 non-null  float64\n",
      " 14  supervisor               85906 non-null  float64\n",
      " 15  manager                  85906 non-null  float64\n",
      " 16  tenure_bucket            85906 non-null  float64\n",
      " 17  agent_shift              85906 non-null  float64\n",
      " 18  csat_score               85906 non-null  int64  \n",
      " 19  sentiment_score          85906 non-null  float64\n",
      " 20  issue_resolution_time    85906 non-null  float64\n",
      " 21  survey_response_time     85906 non-null  float64\n",
      "dtypes: float64(15), int64(1), object(6)\n",
      "memory usage: 17.1+ MB\n"
     ]
    }
   ],
   "source": [
    "cdata.info()"
   ]
  },
  {
   "cell_type": "code",
   "execution_count": null,
   "id": "aa2f3f1d",
   "metadata": {},
   "outputs": [],
   "source": []
  },
  {
   "cell_type": "code",
   "execution_count": 7,
   "id": "0a816e3a",
   "metadata": {},
   "outputs": [
    {
     "data": {
      "image/png": "[encoded data removed]",
      "text/plain": [
       "<Figure size 640x480 with 1 Axes>"
      ]
     },
     "metadata": {},
     "output_type": "display_data"
    }
   ],
   "source": [
    "sns.barplot(x=\"channel_name\", y=\"csat_score\", data=cdata);"
   ]
  },
  {
   "cell_type": "code",
   "execution_count": 8,
   "id": "95f2483e",
   "metadata": {},
   "outputs": [
    {
     "data": {
      "text/plain": [
       "(85906, 22)"
      ]
     },
     "execution_count": 8,
     "metadata": {},
     "output_type": "execute_result"
    }
   ],
   "source": [
    "cdata.shape"
   ]
  },
  {
   "cell_type": "code",
   "execution_count": 9,
   "id": "203c55a0",
   "metadata": {},
   "outputs": [
    {
     "name": "stdout",
     "output_type": "stream",
     "text": [
      "<class 'pandas.core.frame.DataFrame'>\n",
      "Index: 85906 entries, 7e9ae164-6a8b-4521-a2d4-58f7c9fff13f to 07c7a878-0d5a-42e0-97ef-de59abec0238\n",
      "Data columns (total 22 columns):\n",
      " #   Column                   Non-Null Count  Dtype  \n",
      "---  ------                   --------------  -----  \n",
      " 0   channel_name             85906 non-null  float64\n",
      " 1   category                 85906 non-null  float64\n",
      " 2   sub-category             85906 non-null  float64\n",
      " 3   customer_remarks         85906 non-null  object \n",
      " 4   order_id                 67675 non-null  object \n",
      " 5   order_date_time          17214 non-null  object \n",
      " 6   issue_reported_at        85906 non-null  object \n",
      " 7   issue_responded          85906 non-null  object \n",
      " 8   survey_response_date     85906 non-null  object \n",
      " 9   customer_city            85906 non-null  float64\n",
      " 10  product_category         85906 non-null  float64\n",
      " 11  item_price               85906 non-null  float64\n",
      " 12  connected_handling_time  85906 non-null  float64\n",
      " 13  agent_name               85906 non-null  float64\n",
      " 14  supervisor               85906 non-null  float64\n",
      " 15  manager                  85906 non-null  float64\n",
      " 16  tenure_bucket            85906 non-null  float64\n",
      " 17  agent_shift              85906 non-null  float64\n",
      " 18  csat_score               85906 non-null  int64  \n",
      " 19  sentiment_score          85906 non-null  float64\n",
      " 20  issue_resolution_time    85906 non-null  float64\n",
      " 21  survey_response_time     85906 non-null  float64\n",
      "dtypes: float64(15), int64(1), object(6)\n",
      "memory usage: 17.1+ MB\n"
     ]
    }
   ],
   "source": [
    "cdata.info()"
   ]
  },
  {
   "cell_type": "code",
   "execution_count": 10,
   "id": "0d6590fc",
   "metadata": {},
   "outputs": [
    {
     "data": {
      "text/html": [
       "<div>\n",
       "<style scoped>\n",
       "    .dataframe tbody tr th:only-of-type {\n",
       "        vertical-align: middle;\n",
       "    }\n",
       "\n",
       "    .dataframe tbody tr th {\n",
       "        vertical-align: top;\n",
       "    }\n",
       "\n",
       "    .dataframe thead th {\n",
       "        text-align: right;\n",
       "    }\n",
       "</style>\n",
       "<table border=\"1\" class=\"dataframe\">\n",
       "  <thead>\n",
       "    <tr style=\"text-align: right;\">\n",
       "      <th></th>\n",
       "      <th>channel_name</th>\n",
       "      <th>category</th>\n",
       "      <th>sub-category</th>\n",
       "      <th>customer_remarks</th>\n",
       "      <th>order_id</th>\n",
       "      <th>order_date_time</th>\n",
       "      <th>issue_reported_at</th>\n",
       "      <th>issue_responded</th>\n",
       "      <th>survey_response_date</th>\n",
       "      <th>customer_city</th>\n",
       "      <th>...</th>\n",
       "      <th>connected_handling_time</th>\n",
       "      <th>agent_name</th>\n",
       "      <th>supervisor</th>\n",
       "      <th>manager</th>\n",
       "      <th>tenure_bucket</th>\n",
       "      <th>agent_shift</th>\n",
       "      <th>csat_score</th>\n",
       "      <th>sentiment_score</th>\n",
       "      <th>issue_resolution_time</th>\n",
       "      <th>survey_response_time</th>\n",
       "    </tr>\n",
       "    <tr>\n",
       "      <th>Unique id</th>\n",
       "      <th></th>\n",
       "      <th></th>\n",
       "      <th></th>\n",
       "      <th></th>\n",
       "      <th></th>\n",
       "      <th></th>\n",
       "      <th></th>\n",
       "      <th></th>\n",
       "      <th></th>\n",
       "      <th></th>\n",
       "      <th></th>\n",
       "      <th></th>\n",
       "      <th></th>\n",
       "      <th></th>\n",
       "      <th></th>\n",
       "      <th></th>\n",
       "      <th></th>\n",
       "      <th></th>\n",
       "      <th></th>\n",
       "      <th></th>\n",
       "      <th></th>\n",
       "    </tr>\n",
       "  </thead>\n",
       "  <tbody>\n",
       "    <tr>\n",
       "      <th>7e9ae164-6a8b-4521-a2d4-58f7c9fff13f</th>\n",
       "      <td>2.0</td>\n",
       "      <td>8.0</td>\n",
       "      <td>19.0</td>\n",
       "      <td>No_Remarks</td>\n",
       "      <td>c27c9bb4-fa36-4140-9f1f-21009254ffdb</td>\n",
       "      <td>NaN</td>\n",
       "      <td>01/08/2023 11:13</td>\n",
       "      <td>01/08/2023 11:47</td>\n",
       "      <td>01-Aug-23</td>\n",
       "      <td>684.0</td>\n",
       "      <td>...</td>\n",
       "      <td>433.0</td>\n",
       "      <td>1072.0</td>\n",
       "      <td>26.0</td>\n",
       "      <td>1.0</td>\n",
       "      <td>4.0</td>\n",
       "      <td>2.0</td>\n",
       "      <td>5</td>\n",
       "      <td>0.4215</td>\n",
       "      <td>34.0</td>\n",
       "      <td>0.0</td>\n",
       "    </tr>\n",
       "    <tr>\n",
       "      <th>b07ec1b0-f376-43b6-86df-ec03da3b2e16</th>\n",
       "      <td>2.0</td>\n",
       "      <td>8.0</td>\n",
       "      <td>34.0</td>\n",
       "      <td>No_Remarks</td>\n",
       "      <td>d406b0c7-ce17-4654-b9de-f08d421254bd</td>\n",
       "      <td>NaN</td>\n",
       "      <td>01/08/2023 12:52</td>\n",
       "      <td>01/08/2023 12:54</td>\n",
       "      <td>01-Aug-23</td>\n",
       "      <td>684.0</td>\n",
       "      <td>...</td>\n",
       "      <td>408.2</td>\n",
       "      <td>1323.0</td>\n",
       "      <td>9.0</td>\n",
       "      <td>3.0</td>\n",
       "      <td>3.0</td>\n",
       "      <td>2.0</td>\n",
       "      <td>5</td>\n",
       "      <td>0.4215</td>\n",
       "      <td>2.0</td>\n",
       "      <td>0.0</td>\n",
       "    </tr>\n",
       "  </tbody>\n",
       "</table>\n",
       "<p>2 rows × 22 columns</p>\n",
       "</div>"
      ],
      "text/plain": [
       "                                      channel_name  category  sub-category  \\\n",
       "Unique id                                                                    \n",
       "7e9ae164-6a8b-4521-a2d4-58f7c9fff13f           2.0       8.0          19.0   \n",
       "b07ec1b0-f376-43b6-86df-ec03da3b2e16           2.0       8.0          34.0   \n",
       "\n",
       "                                     customer_remarks  \\\n",
       "Unique id                                               \n",
       "7e9ae164-6a8b-4521-a2d4-58f7c9fff13f       No_Remarks   \n",
       "b07ec1b0-f376-43b6-86df-ec03da3b2e16       No_Remarks   \n",
       "\n",
       "                                                                  order_id  \\\n",
       "Unique id                                                                    \n",
       "7e9ae164-6a8b-4521-a2d4-58f7c9fff13f  c27c9bb4-fa36-4140-9f1f-21009254ffdb   \n",
       "b07ec1b0-f376-43b6-86df-ec03da3b2e16  d406b0c7-ce17-4654-b9de-f08d421254bd   \n",
       "\n",
       "                                     order_date_time issue_reported_at  \\\n",
       "Unique id                                                                \n",
       "7e9ae164-6a8b-4521-a2d4-58f7c9fff13f             NaN  01/08/2023 11:13   \n",
       "b07ec1b0-f376-43b6-86df-ec03da3b2e16             NaN  01/08/2023 12:52   \n",
       "\n",
       "                                       issue_responded survey_response_date  \\\n",
       "Unique id                                                                     \n",
       "7e9ae164-6a8b-4521-a2d4-58f7c9fff13f  01/08/2023 11:47            01-Aug-23   \n",
       "b07ec1b0-f376-43b6-86df-ec03da3b2e16  01/08/2023 12:54            01-Aug-23   \n",
       "\n",
       "                                      customer_city  ...  \\\n",
       "Unique id                                            ...   \n",
       "7e9ae164-6a8b-4521-a2d4-58f7c9fff13f          684.0  ...   \n",
       "b07ec1b0-f376-43b6-86df-ec03da3b2e16          684.0  ...   \n",
       "\n",
       "                                      connected_handling_time  agent_name  \\\n",
       "Unique id                                                                   \n",
       "7e9ae164-6a8b-4521-a2d4-58f7c9fff13f                    433.0      1072.0   \n",
       "b07ec1b0-f376-43b6-86df-ec03da3b2e16                    408.2      1323.0   \n",
       "\n",
       "                                      supervisor  manager  tenure_bucket  \\\n",
       "Unique id                                                                  \n",
       "7e9ae164-6a8b-4521-a2d4-58f7c9fff13f        26.0      1.0            4.0   \n",
       "b07ec1b0-f376-43b6-86df-ec03da3b2e16         9.0      3.0            3.0   \n",
       "\n",
       "                                      agent_shift  csat_score  \\\n",
       "Unique id                                                       \n",
       "7e9ae164-6a8b-4521-a2d4-58f7c9fff13f          2.0           5   \n",
       "b07ec1b0-f376-43b6-86df-ec03da3b2e16          2.0           5   \n",
       "\n",
       "                                      sentiment_score  issue_resolution_time  \\\n",
       "Unique id                                                                      \n",
       "7e9ae164-6a8b-4521-a2d4-58f7c9fff13f           0.4215                   34.0   \n",
       "b07ec1b0-f376-43b6-86df-ec03da3b2e16           0.4215                    2.0   \n",
       "\n",
       "                                      survey_response_time  \n",
       "Unique id                                                   \n",
       "7e9ae164-6a8b-4521-a2d4-58f7c9fff13f                   0.0  \n",
       "b07ec1b0-f376-43b6-86df-ec03da3b2e16                   0.0  \n",
       "\n",
       "[2 rows x 22 columns]"
      ]
     },
     "execution_count": 10,
     "metadata": {},
     "output_type": "execute_result"
    }
   ],
   "source": [
    "cdata.head(2)"
   ]
  },
  {
   "cell_type": "markdown",
   "id": "6e268497",
   "metadata": {},
   "source": [
    "#### Feature Dropping Reason Explained\n",
    "1. **Dropping irrelavant Feature**:\n",
    "    - *Customer_remarks dropping as already Feature Engineered Sentiment score from it which explained the Remarks in numerical manner*\n",
    "    - *Dropping order_id as it is just an id and doesn't provide any inferences and related to csat score.*\n",
    "    - *Dropping issue_reported_at issue_responded survey_response_date as already Feature Engineered issue_resolution_time\tsurvey_response_time*\n"
   ]
  },
  {
   "cell_type": "code",
   "execution_count": 11,
   "id": "b5415bf5",
   "metadata": {},
   "outputs": [],
   "source": [
    "cdata.drop([\"customer_remarks\",\"order_id\",\"order_date_time\",\"issue_reported_at\", \"issue_responded\",\"survey_response_date\"], inplace=True, axis=1)"
   ]
  },
  {
   "cell_type": "markdown",
   "id": "df1ec7c6",
   "metadata": {},
   "source": [
    "# Model Training Started"
   ]
  },
  {
   "cell_type": "code",
   "execution_count": 12,
   "id": "dac8c04a",
   "metadata": {},
   "outputs": [],
   "source": [
    "from sklearn.model_selection import train_test_split"
   ]
  },
  {
   "cell_type": "code",
   "execution_count": 13,
   "id": "cde4c527",
   "metadata": {},
   "outputs": [
    {
     "data": {
      "text/html": [
       "<div>\n",
       "<style scoped>\n",
       "    .dataframe tbody tr th:only-of-type {\n",
       "        vertical-align: middle;\n",
       "    }\n",
       "\n",
       "    .dataframe tbody tr th {\n",
       "        vertical-align: top;\n",
       "    }\n",
       "\n",
       "    .dataframe thead th {\n",
       "        text-align: right;\n",
       "    }\n",
       "</style>\n",
       "<table border=\"1\" class=\"dataframe\">\n",
       "  <thead>\n",
       "    <tr style=\"text-align: right;\">\n",
       "      <th></th>\n",
       "      <th>channel_name</th>\n",
       "      <th>category</th>\n",
       "      <th>sub-category</th>\n",
       "      <th>customer_city</th>\n",
       "      <th>product_category</th>\n",
       "      <th>item_price</th>\n",
       "      <th>connected_handling_time</th>\n",
       "      <th>agent_name</th>\n",
       "      <th>supervisor</th>\n",
       "      <th>manager</th>\n",
       "      <th>tenure_bucket</th>\n",
       "      <th>agent_shift</th>\n",
       "      <th>csat_score</th>\n",
       "      <th>sentiment_score</th>\n",
       "      <th>issue_resolution_time</th>\n",
       "      <th>survey_response_time</th>\n",
       "    </tr>\n",
       "    <tr>\n",
       "      <th>Unique id</th>\n",
       "      <th></th>\n",
       "      <th></th>\n",
       "      <th></th>\n",
       "      <th></th>\n",
       "      <th></th>\n",
       "      <th></th>\n",
       "      <th></th>\n",
       "      <th></th>\n",
       "      <th></th>\n",
       "      <th></th>\n",
       "      <th></th>\n",
       "      <th></th>\n",
       "      <th></th>\n",
       "      <th></th>\n",
       "      <th></th>\n",
       "      <th></th>\n",
       "    </tr>\n",
       "  </thead>\n",
       "  <tbody>\n",
       "    <tr>\n",
       "      <th>7e9ae164-6a8b-4521-a2d4-58f7c9fff13f</th>\n",
       "      <td>2.0</td>\n",
       "      <td>8.0</td>\n",
       "      <td>19.0</td>\n",
       "      <td>684.0</td>\n",
       "      <td>2.0</td>\n",
       "      <td>979.0</td>\n",
       "      <td>433.0</td>\n",
       "      <td>1072.0</td>\n",
       "      <td>26.0</td>\n",
       "      <td>1.0</td>\n",
       "      <td>4.0</td>\n",
       "      <td>2.0</td>\n",
       "      <td>5</td>\n",
       "      <td>0.4215</td>\n",
       "      <td>34.0</td>\n",
       "      <td>0.0</td>\n",
       "    </tr>\n",
       "    <tr>\n",
       "      <th>b07ec1b0-f376-43b6-86df-ec03da3b2e16</th>\n",
       "      <td>2.0</td>\n",
       "      <td>8.0</td>\n",
       "      <td>34.0</td>\n",
       "      <td>684.0</td>\n",
       "      <td>2.0</td>\n",
       "      <td>979.0</td>\n",
       "      <td>408.2</td>\n",
       "      <td>1323.0</td>\n",
       "      <td>9.0</td>\n",
       "      <td>3.0</td>\n",
       "      <td>3.0</td>\n",
       "      <td>2.0</td>\n",
       "      <td>5</td>\n",
       "      <td>0.4215</td>\n",
       "      <td>2.0</td>\n",
       "      <td>0.0</td>\n",
       "    </tr>\n",
       "  </tbody>\n",
       "</table>\n",
       "</div>"
      ],
      "text/plain": [
       "                                      channel_name  category  sub-category  \\\n",
       "Unique id                                                                    \n",
       "7e9ae164-6a8b-4521-a2d4-58f7c9fff13f           2.0       8.0          19.0   \n",
       "b07ec1b0-f376-43b6-86df-ec03da3b2e16           2.0       8.0          34.0   \n",
       "\n",
       "                                      customer_city  product_category  \\\n",
       "Unique id                                                               \n",
       "7e9ae164-6a8b-4521-a2d4-58f7c9fff13f          684.0               2.0   \n",
       "b07ec1b0-f376-43b6-86df-ec03da3b2e16          684.0               2.0   \n",
       "\n",
       "                                      item_price  connected_handling_time  \\\n",
       "Unique id                                                                   \n",
       "7e9ae164-6a8b-4521-a2d4-58f7c9fff13f       979.0                    433.0   \n",
       "b07ec1b0-f376-43b6-86df-ec03da3b2e16       979.0                    408.2   \n",
       "\n",
       "                                      agent_name  supervisor  manager  \\\n",
       "Unique id                                                               \n",
       "7e9ae164-6a8b-4521-a2d4-58f7c9fff13f      1072.0        26.0      1.0   \n",
       "b07ec1b0-f376-43b6-86df-ec03da3b2e16      1323.0         9.0      3.0   \n",
       "\n",
       "                                      tenure_bucket  agent_shift  csat_score  \\\n",
       "Unique id                                                                      \n",
       "7e9ae164-6a8b-4521-a2d4-58f7c9fff13f            4.0          2.0           5   \n",
       "b07ec1b0-f376-43b6-86df-ec03da3b2e16            3.0          2.0           5   \n",
       "\n",
       "                                      sentiment_score  issue_resolution_time  \\\n",
       "Unique id                                                                      \n",
       "7e9ae164-6a8b-4521-a2d4-58f7c9fff13f           0.4215                   34.0   \n",
       "b07ec1b0-f376-43b6-86df-ec03da3b2e16           0.4215                    2.0   \n",
       "\n",
       "                                      survey_response_time  \n",
       "Unique id                                                   \n",
       "7e9ae164-6a8b-4521-a2d4-58f7c9fff13f                   0.0  \n",
       "b07ec1b0-f376-43b6-86df-ec03da3b2e16                   0.0  "
      ]
     },
     "execution_count": 13,
     "metadata": {},
     "output_type": "execute_result"
    }
   ],
   "source": [
    "cdata.head(2)"
   ]
  },
  {
   "cell_type": "code",
   "execution_count": 14,
   "id": "7274c481",
   "metadata": {},
   "outputs": [
    {
     "name": "stdout",
     "output_type": "stream",
     "text": [
      "<class 'pandas.core.frame.DataFrame'>\n",
      "Index: 85906 entries, 7e9ae164-6a8b-4521-a2d4-58f7c9fff13f to 07c7a878-0d5a-42e0-97ef-de59abec0238\n",
      "Data columns (total 16 columns):\n",
      " #   Column                   Non-Null Count  Dtype  \n",
      "---  ------                   --------------  -----  \n",
      " 0   channel_name             85906 non-null  float64\n",
      " 1   category                 85906 non-null  float64\n",
      " 2   sub-category             85906 non-null  float64\n",
      " 3   customer_city            85906 non-null  float64\n",
      " 4   product_category         85906 non-null  float64\n",
      " 5   item_price               85906 non-null  float64\n",
      " 6   connected_handling_time  85906 non-null  float64\n",
      " 7   agent_name               85906 non-null  float64\n",
      " 8   supervisor               85906 non-null  float64\n",
      " 9   manager                  85906 non-null  float64\n",
      " 10  tenure_bucket            85906 non-null  float64\n",
      " 11  agent_shift              85906 non-null  float64\n",
      " 12  csat_score               85906 non-null  int64  \n",
      " 13  sentiment_score          85906 non-null  float64\n",
      " 14  issue_resolution_time    85906 non-null  float64\n",
      " 15  survey_response_time     85906 non-null  float64\n",
      "dtypes: float64(15), int64(1)\n",
      "memory usage: 13.2+ MB\n"
     ]
    }
   ],
   "source": [
    "cdata.info()"
   ]
  },
  {
   "cell_type": "markdown",
   "id": "b7d6a32b",
   "metadata": {},
   "source": [
    "## ML Model Training with ML Flow"
   ]
  },
  {
   "cell_type": "code",
   "execution_count": 15,
   "id": "91bc38b1",
   "metadata": {},
   "outputs": [],
   "source": [
    "from imblearn.over_sampling import SMOTE\n",
    "sm = SMOTE(random_state=42)\n",
    "def data_split(cdata, rebalance = False):\n",
    "    X=cdata.drop(\"csat_score\", axis=1)\n",
    "    y=cdata[\"csat_score\"]\n",
    "    if rebalance==True:\n",
    "        sm = SMOTE(random_state=42)\n",
    "        X, y = sm.fit_resample(X, y)\n",
    "    x_train, x_test, y_train, y_test = train_test_split(X, y, test_size=0.2, random_state=42, stratify=y)\n",
    "    return x_train, x_test, y_train, y_test"
   ]
  },
  {
   "cell_type": "code",
   "execution_count": 16,
   "id": "fcea6e15",
   "metadata": {},
   "outputs": [],
   "source": [
    "x=cdata.drop(\"csat_score\", axis=1)\n",
    "y=cdata[\"csat_score\"]"
   ]
  },
  {
   "cell_type": "markdown",
   "id": "18c32205",
   "metadata": {},
   "source": [
    "**Classes are highly Imbalanced in nature. So, using SMOTEENN to balance the classes.**"
   ]
  },
  {
   "cell_type": "code",
   "execution_count": 17,
   "id": "0c0a4e36",
   "metadata": {},
   "outputs": [],
   "source": [
    "from imblearn.over_sampling import SMOTE\n",
    "sm = SMOTE(random_state=42)\n",
    "X_res, y_res = sm.fit_resample(x, y)"
   ]
  },
  {
   "cell_type": "code",
   "execution_count": 18,
   "id": "a9bf9c0f",
   "metadata": {},
   "outputs": [
    {
     "data": {
      "text/plain": [
       "'from imblearn.combine import SMOTEENN\\nsmote_enn = SMOTEENN(random_state=42)\\nX_res, y_res = smote_enn.fit_resample(x, y)\\n'"
      ]
     },
     "execution_count": 18,
     "metadata": {},
     "output_type": "execute_result"
    }
   ],
   "source": [
    "\"\"\"from imblearn.combine import SMOTEENN\n",
    "smote_enn = SMOTEENN(random_state=42)\n",
    "X_res, y_res = smote_enn.fit_resample(x, y)\n",
    "\"\"\""
   ]
  },
  {
   "cell_type": "code",
   "execution_count": 19,
   "id": "b454db14",
   "metadata": {},
   "outputs": [],
   "source": [
    "\n",
    "\n",
    "x_train, x_test, y_train, y_test = train_test_split(X_res,y_res, test_size=0.25)\n"
   ]
  },
  {
   "cell_type": "code",
   "execution_count": 20,
   "id": "d50d914a",
   "metadata": {},
   "outputs": [],
   "source": [
    "import mlflow\n",
    "import os\n",
    "mlflow.set_tracking_uri(\"http://localhost:5000\")\n",
    "from sklearn.ensemble import RandomForestClassifier\n",
    "from sklearn.metrics import accuracy_score, classification_report, confusion_matrix, ConfusionMatrixDisplay, f1_score, recall_score, precision_score\n",
    "import matplotlib.pyplot as plt\n",
    "from sklearn.metrics import balanced_accuracy_score, cohen_kappa_score, matthews_corrcoef, precision_recall_fscore_support"
   ]
  },
  {
   "cell_type": "code",
   "execution_count": null,
   "id": "74621d43",
   "metadata": {},
   "outputs": [],
   "source": []
  },
  {
   "cell_type": "code",
   "execution_count": 22,
   "id": "4bdac6af",
   "metadata": {},
   "outputs": [
    {
     "name": "stdout",
     "output_type": "stream",
     "text": [
      "🏃 View run Randomforest_classifier_test_run at: http://localhost:5000/#/experiments/765462807372361083/runs/d5d72a1000e14b3b81cfe8a10dd57881\n",
      "🧪 View experiment at: http://localhost:5000/#/experiments/765462807372361083\n"
     ]
    }
   ],
   "source": [
    "expriment_name=\"Inital_Model_test\"\n",
    "model_name=\"Random_Forest_Classifier\"\n",
    "run_name=\"Randomforest_classifier_test_run\"\n",
    "try:\n",
    "    mlflow.create_experiment(expriment_name)\n",
    "except:\n",
    "    mlflow.set_experiment(expriment_name)\n",
    "\n",
    "with mlflow.start_run(run_name=run_name):\n",
    "    estimators=1200\n",
    "    criterion=\"gini\"\n",
    "    depth=15\n",
    "\n",
    "    rfc=RandomForestClassifier(n_estimators=estimators, criterion=criterion, max_depth=5, n_jobs=-1, class_weight=\"balanced\")\n",
    "    rfc.fit(x_train, y_train)\n",
    "    pred=rfc.predict(x_test)\n",
    "    acc=accuracy_score(y_test, pred)\n",
    "    classification_report(y_test, pred)\n",
    "    mlflow.log_param(\"n_estimators\", estimators)\n",
    "    mlflow.log_param(\"criterion\", criterion)\n",
    "    mlflow.log_param(\"depth\", depth)\n",
    "    mlflow.log_metric(\"accuracy\", acc)\n",
    "    mlflow.log_metric(\"f1_score\", f1_score(y_test, pred, average='weighted'))\n",
    "    mlflow.log_metric(\"recall\", recall_score(y_test, pred, average='weighted'))\n",
    "    mlflow.log_metric(\"precision\", precision_score(y_test, pred, average='weighted'))\n",
    "    cm = confusion_matrix(y_test, pred)\n",
    "    disp = ConfusionMatrixDisplay(confusion_matrix=cm, display_labels=np.unique(y_test))\n",
    "    \n",
    "    fig, ax = plt.subplots(figsize=(6, 6))\n",
    "    disp.plot(cmap='Blues', ax=ax, colorbar=False)\n",
    "    plt.title(\"CSAT Confusion Matrix\")\n",
    "    mlflow.log_figure(fig, f\"{model_name}_confusion_matrix.png\")\n",
    "    # Save locally\n",
    "    cm_path = f\"image_save/{model_name}_confusion_matrix.png\"\n",
    "    plt.savefig(cm_path)\n",
    "    plt.close(fig)\n",
    "\n",
    "    # Log as artifact\n",
    "    mlflow.log_artifact(cm_path)\n",
    "    sign=mlflow.models.infer_signature(x_train, rfc.predict(x_train))\n",
    "    mlflow.sklearn.log_model(rfc,name= model_name, signature=sign)\n",
    "    mlflow.end_run()"
   ]
  },
  {
   "cell_type": "code",
   "execution_count": 23,
   "id": "bfa83bc5",
   "metadata": {},
   "outputs": [
    {
     "data": {
      "text/plain": [
       "'\\ndef logging(y_test, pred):\\n    mlflow.log_metric(\"accuracy\", accuracy_score(y_test, pred))\\n    mlflow.log_metric(\"f1_score\", f1_score(y_test, pred, average=\\'weighted\\'))\\n    mlflow.log_metric(\"recall\", recall_score(y_test, pred, average=\\'weighted\\'))\\n    mlflow.log_metric(\"precision\", precision_score(y_test, pred, average=\\'weighted\\'))\\n    balanced_acc = balanced_accuracy_score(y_test, pred)\\n    kappa = cohen_kappa_score(y_test, pred)\\n    mcc = matthews_corrcoef(y_test, pred)\\n\\n    mlflow.log_metric(\"balanced_accuracy\", balanced_acc)\\n    mlflow.log_metric(\"cohen_kappa\", kappa)\\n    mlflow.log_metric(\"mcc\", mcc)\\n    cm = confusion_matrix(y_test, pred)\\n    disp = ConfusionMatrixDisplay(confusion_matrix=cm, display_labels=np.unique(y_test))\\n\\n    fig, ax = plt.subplots(figsize=(6, 6))\\n    disp.plot(cmap=\\'Blues\\', ax=ax, colorbar=False)\\n    plt.title(\"CSAT Confusion Matrix\")\\n    mlflow.log_figure(fig, f\"{model_name}_confusion_matrix.png\")\\n    # Save locally\\n    cm_path = f\"image_save/{model_name}_confusion_matrix.png\"\\n    plt.savefig(cm_path)\\n    plt.close(fig)\\n    prec, rec, f1, _ = precision_recall_fscore_support(y_test, pred, average=None, labels=np.unique(y))\\n    for i, label in enumerate(np.unique(y)):\\n        mlflow.log_metric(f\"precision_class_{label}\", prec[i])\\n        mlflow.log_metric(f\"recall_class_{label}\", rec[i])\\n        mlflow.log_metric(f\"f1_class_{label}\", f1[i])\\n    # Log as artifact\\n    mlflow.log_artifact(cm_path)\\n    '"
      ]
     },
     "execution_count": 23,
     "metadata": {},
     "output_type": "execute_result"
    }
   ],
   "source": [
    "\"\"\"\n",
    "def logging(y_test, pred):\n",
    "    mlflow.log_metric(\"accuracy\", accuracy_score(y_test, pred))\n",
    "    mlflow.log_metric(\"f1_score\", f1_score(y_test, pred, average='weighted'))\n",
    "    mlflow.log_metric(\"recall\", recall_score(y_test, pred, average='weighted'))\n",
    "    mlflow.log_metric(\"precision\", precision_score(y_test, pred, average='weighted'))\n",
    "    balanced_acc = balanced_accuracy_score(y_test, pred)\n",
    "    kappa = cohen_kappa_score(y_test, pred)\n",
    "    mcc = matthews_corrcoef(y_test, pred)\n",
    "\n",
    "    mlflow.log_metric(\"balanced_accuracy\", balanced_acc)\n",
    "    mlflow.log_metric(\"cohen_kappa\", kappa)\n",
    "    mlflow.log_metric(\"mcc\", mcc)\n",
    "    cm = confusion_matrix(y_test, pred)\n",
    "    disp = ConfusionMatrixDisplay(confusion_matrix=cm, display_labels=np.unique(y_test))\n",
    "    \n",
    "    fig, ax = plt.subplots(figsize=(6, 6))\n",
    "    disp.plot(cmap='Blues', ax=ax, colorbar=False)\n",
    "    plt.title(\"CSAT Confusion Matrix\")\n",
    "    mlflow.log_figure(fig, f\"{model_name}_confusion_matrix.png\")\n",
    "    # Save locally\n",
    "    cm_path = f\"image_save/{model_name}_confusion_matrix.png\"\n",
    "    plt.savefig(cm_path)\n",
    "    plt.close(fig)\n",
    "    prec, rec, f1, _ = precision_recall_fscore_support(y_test, pred, average=None, labels=np.unique(y))\n",
    "    for i, label in enumerate(np.unique(y)):\n",
    "        mlflow.log_metric(f\"precision_class_{label}\", prec[i])\n",
    "        mlflow.log_metric(f\"recall_class_{label}\", rec[i])\n",
    "        mlflow.log_metric(f\"f1_class_{label}\", f1[i])\n",
    "    # Log as artifact\n",
    "    mlflow.log_artifact(cm_path)\n",
    "    \"\"\""
   ]
  },
  {
   "cell_type": "code",
   "execution_count": 24,
   "id": "749966bf",
   "metadata": {},
   "outputs": [],
   "source": [
    "from sklearn.metrics import roc_curve, auc"
   ]
  },
  {
   "cell_type": "code",
   "execution_count": 25,
   "id": "170d00e0",
   "metadata": {},
   "outputs": [],
   "source": [
    "def logging(y_test, pred, model_name=\"model\"):\n",
    "    # --- 1️⃣ Core Metrics ---\n",
    "    mlflow.log_metric(\"accuracy\", accuracy_score(y_test, pred))\n",
    "    mlflow.log_metric(\"f1_score_weighted\", f1_score(y_test, pred, average='weighted'))\n",
    "    mlflow.log_metric(\"recall_weighted\", recall_score(y_test, pred, average='weighted'))\n",
    "    mlflow.log_metric(\"precision_weighted\", precision_score(y_test, pred, average='weighted'))\n",
    "\n",
    "    balanced_acc = balanced_accuracy_score(y_test, pred)\n",
    "    kappa = cohen_kappa_score(y_test, pred)\n",
    "    mcc = matthews_corrcoef(y_test, pred)\n",
    "\n",
    "    mlflow.log_metric(\"balanced_accuracy\", balanced_acc)\n",
    "    mlflow.log_metric(\"cohen_kappa\", kappa)\n",
    "    mlflow.log_metric(\"mcc\", mcc)\n",
    "\n",
    "    # --- 2️⃣ Confusion Matrix ---\n",
    "    cm = confusion_matrix(y_test, pred, labels=np.unique(y_test))\n",
    "    disp = ConfusionMatrixDisplay(confusion_matrix=cm, display_labels=np.unique(y_test))\n",
    "\n",
    "    fig, ax = plt.subplots(figsize=(6, 6))\n",
    "    disp.plot(cmap='Blues', ax=ax, colorbar=False)\n",
    "    plt.title(f\"Confusion Matrix - {model_name}\")\n",
    "\n",
    "    # Ensure folder exists\n",
    "    os.makedirs(\"image_save\", exist_ok=True)\n",
    "    cm_path = f\"image_save/{model_name}_confusion_matrix.png\"\n",
    "    plt.savefig(cm_path)\n",
    "    mlflow.log_figure(fig, f\"{model_name}_confusion_matrix.png\")\n",
    "    plt.close(fig)\n",
    "\n",
    "\n",
    "\n",
    "\n",
    "\n",
    "    # --- 3️⃣ Per-Class Metrics ---\n",
    "    prec, rec, f1, _ = precision_recall_fscore_support(\n",
    "        y_test, pred, average=None, labels=np.unique(y_test)\n",
    "    )\n",
    "\n",
    "    for i, label in enumerate(np.unique(y_test)):\n",
    "        mlflow.log_metric(f\"precision_class_{label}\", prec[i])\n",
    "        mlflow.log_metric(f\"recall_class_{label}\", rec[i])\n",
    "        mlflow.log_metric(f\"f1_class_{label}\", f1[i])\n",
    "\n",
    "    # --- 4️⃣ Log CM as artifact ---\n",
    "    mlflow.log_artifact(cm_path)\n",
    "\n",
    "    print(f\"✅ Logged metrics and confusion matrix for {model_name}\")\n"
   ]
  },
  {
   "cell_type": "code",
   "execution_count": 26,
   "id": "543344ab",
   "metadata": {},
   "outputs": [
    {
     "name": "stdout",
     "output_type": "stream",
     "text": [
      "✅ Logged metrics and confusion matrix for Random_Forest_Classifier\n",
      "🏃 View run Randomforest_classifier_test_run at: http://localhost:5000/#/experiments/765462807372361083/runs/9e8ae05e269842ddb38728a50d4d3da5\n",
      "🧪 View experiment at: http://localhost:5000/#/experiments/765462807372361083\n"
     ]
    }
   ],
   "source": [
    "expriment_name=\"Inital_Model_test\"\n",
    "model_name=\"Random_Forest_Classifier\"\n",
    "run_name=\"Randomforest_classifier_test_run\"\n",
    "try:\n",
    "    mlflow.create_experiment(expriment_name)\n",
    "except:\n",
    "    mlflow.set_experiment(expriment_name)\n",
    "\n",
    "with mlflow.start_run(run_name=run_name):\n",
    "    estimators=1200\n",
    "    criterion=\"gini\"\n",
    "    depth=15\n",
    "\n",
    "    rfc=RandomForestClassifier(n_estimators=estimators, criterion=criterion, max_depth=5, n_jobs=-1, class_weight=\"balanced\")\n",
    "    rfc.fit(x_train, y_train)\n",
    "    pred=rfc.predict(x_test)\n",
    "    acc=accuracy_score(y_test, pred)\n",
    "    classification_report(y_test, pred)\n",
    "    mlflow.log_param(\"n_estimators\", estimators)\n",
    "    mlflow.log_param(\"criterion\", criterion)\n",
    "    mlflow.log_param(\"depth\", depth)\n",
    "    logging(y_test, pred, model_name=model_name)\n",
    "    sign=mlflow.models.infer_signature(x_train, rfc.predict(x_train))\n",
    "    mlflow.sklearn.log_model(rfc,name= model_name, signature=sign)"
   ]
  },
  {
   "cell_type": "code",
   "execution_count": 27,
   "id": "e8678eac",
   "metadata": {},
   "outputs": [
    {
     "name": "stdout",
     "output_type": "stream",
     "text": [
      "[LightGBM] [Info] Auto-choosing row-wise multi-threading, the overhead of testing was 0.006242 seconds.\n",
      "You can set `force_row_wise=true` to remove the overhead.\n",
      "And if memory is not enough, you can set `force_col_wise=true`.\n",
      "[LightGBM] [Info] Total Bins 3824\n",
      "[LightGBM] [Info] Number of data points in the train set: 238464, number of used features: 15\n",
      "[LightGBM] [Info] Start training from score -1.609434\n",
      "[LightGBM] [Info] Start training from score -1.609434\n",
      "[LightGBM] [Info] Start training from score -1.609434\n",
      "[LightGBM] [Info] Start training from score -1.609455\n",
      "[LightGBM] [Info] Start training from score -1.609434\n",
      "✅ Logged metrics and confusion matrix for LightGBM_Classifier\n",
      "🏃 View run LightGBM_classifier_test_run at: http://localhost:5000/#/experiments/765462807372361083/runs/c52a46d153464dc887da6cffd2545c02\n",
      "🧪 View experiment at: http://localhost:5000/#/experiments/765462807372361083\n"
     ]
    }
   ],
   "source": [
    "import lightgbm as lgb\n",
    "x_train, x_test, y_train, y_test = data_split(cdata, rebalance = True)\n",
    "expriment_name=\"Inital_Model_test\"\n",
    "model_name=\"LightGBM_Classifier\"\n",
    "run_name=\"LightGBM_classifier_test_run\"\n",
    "try:\n",
    "    mlflow.create_experiment(expriment_name)\n",
    "except:\n",
    "    mlflow.set_experiment(expriment_name)\n",
    "\n",
    "with mlflow.start_run(run_name=run_name):\n",
    "    params = {\n",
    "        \"objective\": \"multiclass\",\n",
    "        \"num_class\": 5,\n",
    "        \"boosting_type\": \"gbdt\",\n",
    "        \"metric\": [\"multi_logloss\", \"multi_error\"],\n",
    "        \"learning_rate\": 0.05,\n",
    "        \"num_leaves\": 31,\n",
    "        \"max_depth\": -1,\n",
    "        \"is_unbalance\": True,\n",
    "        \"n_jobs\": -1,\n",
    "        \"random_state\": 42\n",
    "    }\n",
    "\n",
    "    # Log parameters\n",
    "    mlflow.log_params(params)\n",
    "        # Train\n",
    "    model= lgb.LGBMClassifier(**params, n_estimators=1000)\n",
    "    model.fit(x_train, y_train)\n",
    "\n",
    "    # Predictions\n",
    "    y_pred = model.predict(x_test)\n",
    "    \n",
    "    logging(y_test, y_pred, model_name=model_name)\n",
    "    sign=mlflow.models.infer_signature(x_train, model.predict(x_train))\n",
    "    mlflow.sklearn.log_model(model,name= model_name, signature=sign)"
   ]
  },
  {
   "cell_type": "code",
   "execution_count": 28,
   "id": "08c12c7a",
   "metadata": {},
   "outputs": [
    {
     "data": {
      "text/html": [
       "<div>\n",
       "<style scoped>\n",
       "    .dataframe tbody tr th:only-of-type {\n",
       "        vertical-align: middle;\n",
       "    }\n",
       "\n",
       "    .dataframe tbody tr th {\n",
       "        vertical-align: top;\n",
       "    }\n",
       "\n",
       "    .dataframe thead th {\n",
       "        text-align: right;\n",
       "    }\n",
       "</style>\n",
       "<table border=\"1\" class=\"dataframe\">\n",
       "  <thead>\n",
       "    <tr style=\"text-align: right;\">\n",
       "      <th></th>\n",
       "      <th>channel_name</th>\n",
       "      <th>category</th>\n",
       "      <th>sub-category</th>\n",
       "      <th>customer_city</th>\n",
       "      <th>product_category</th>\n",
       "      <th>item_price</th>\n",
       "      <th>connected_handling_time</th>\n",
       "      <th>agent_name</th>\n",
       "      <th>supervisor</th>\n",
       "      <th>manager</th>\n",
       "      <th>tenure_bucket</th>\n",
       "      <th>agent_shift</th>\n",
       "      <th>csat_score</th>\n",
       "      <th>sentiment_score</th>\n",
       "      <th>issue_resolution_time</th>\n",
       "      <th>survey_response_time</th>\n",
       "    </tr>\n",
       "    <tr>\n",
       "      <th>Unique id</th>\n",
       "      <th></th>\n",
       "      <th></th>\n",
       "      <th></th>\n",
       "      <th></th>\n",
       "      <th></th>\n",
       "      <th></th>\n",
       "      <th></th>\n",
       "      <th></th>\n",
       "      <th></th>\n",
       "      <th></th>\n",
       "      <th></th>\n",
       "      <th></th>\n",
       "      <th></th>\n",
       "      <th></th>\n",
       "      <th></th>\n",
       "      <th></th>\n",
       "    </tr>\n",
       "  </thead>\n",
       "  <tbody>\n",
       "    <tr>\n",
       "      <th>7e9ae164-6a8b-4521-a2d4-58f7c9fff13f</th>\n",
       "      <td>2.0</td>\n",
       "      <td>8.0</td>\n",
       "      <td>19.0</td>\n",
       "      <td>684.0</td>\n",
       "      <td>2.0</td>\n",
       "      <td>979.0</td>\n",
       "      <td>433.0</td>\n",
       "      <td>1072.0</td>\n",
       "      <td>26.0</td>\n",
       "      <td>1.0</td>\n",
       "      <td>4.0</td>\n",
       "      <td>2.0</td>\n",
       "      <td>5</td>\n",
       "      <td>0.4215</td>\n",
       "      <td>34.0</td>\n",
       "      <td>0.0</td>\n",
       "    </tr>\n",
       "    <tr>\n",
       "      <th>b07ec1b0-f376-43b6-86df-ec03da3b2e16</th>\n",
       "      <td>2.0</td>\n",
       "      <td>8.0</td>\n",
       "      <td>34.0</td>\n",
       "      <td>684.0</td>\n",
       "      <td>2.0</td>\n",
       "      <td>979.0</td>\n",
       "      <td>408.2</td>\n",
       "      <td>1323.0</td>\n",
       "      <td>9.0</td>\n",
       "      <td>3.0</td>\n",
       "      <td>3.0</td>\n",
       "      <td>2.0</td>\n",
       "      <td>5</td>\n",
       "      <td>0.4215</td>\n",
       "      <td>2.0</td>\n",
       "      <td>0.0</td>\n",
       "    </tr>\n",
       "  </tbody>\n",
       "</table>\n",
       "</div>"
      ],
      "text/plain": [
       "                                      channel_name  category  sub-category  \\\n",
       "Unique id                                                                    \n",
       "7e9ae164-6a8b-4521-a2d4-58f7c9fff13f           2.0       8.0          19.0   \n",
       "b07ec1b0-f376-43b6-86df-ec03da3b2e16           2.0       8.0          34.0   \n",
       "\n",
       "                                      customer_city  product_category  \\\n",
       "Unique id                                                               \n",
       "7e9ae164-6a8b-4521-a2d4-58f7c9fff13f          684.0               2.0   \n",
       "b07ec1b0-f376-43b6-86df-ec03da3b2e16          684.0               2.0   \n",
       "\n",
       "                                      item_price  connected_handling_time  \\\n",
       "Unique id                                                                   \n",
       "7e9ae164-6a8b-4521-a2d4-58f7c9fff13f       979.0                    433.0   \n",
       "b07ec1b0-f376-43b6-86df-ec03da3b2e16       979.0                    408.2   \n",
       "\n",
       "                                      agent_name  supervisor  manager  \\\n",
       "Unique id                                                               \n",
       "7e9ae164-6a8b-4521-a2d4-58f7c9fff13f      1072.0        26.0      1.0   \n",
       "b07ec1b0-f376-43b6-86df-ec03da3b2e16      1323.0         9.0      3.0   \n",
       "\n",
       "                                      tenure_bucket  agent_shift  csat_score  \\\n",
       "Unique id                                                                      \n",
       "7e9ae164-6a8b-4521-a2d4-58f7c9fff13f            4.0          2.0           5   \n",
       "b07ec1b0-f376-43b6-86df-ec03da3b2e16            3.0          2.0           5   \n",
       "\n",
       "                                      sentiment_score  issue_resolution_time  \\\n",
       "Unique id                                                                      \n",
       "7e9ae164-6a8b-4521-a2d4-58f7c9fff13f           0.4215                   34.0   \n",
       "b07ec1b0-f376-43b6-86df-ec03da3b2e16           0.4215                    2.0   \n",
       "\n",
       "                                      survey_response_time  \n",
       "Unique id                                                   \n",
       "7e9ae164-6a8b-4521-a2d4-58f7c9fff13f                   0.0  \n",
       "b07ec1b0-f376-43b6-86df-ec03da3b2e16                   0.0  "
      ]
     },
     "execution_count": 28,
     "metadata": {},
     "output_type": "execute_result"
    }
   ],
   "source": [
    "cdata.head(2)"
   ]
  },
  {
   "cell_type": "markdown",
   "id": "b01da5f0",
   "metadata": {},
   "source": [
    "#### Scaling data"
   ]
  },
  {
   "cell_type": "code",
   "execution_count": 29,
   "id": "c33e436c",
   "metadata": {},
   "outputs": [],
   "source": [
    "from sklearn.preprocessing import RobustScaler\n",
    "x_data=cdata.drop(\"csat_score\", axis=1)\n",
    "scaler = RobustScaler()\n",
    "x_scaled = scaler.fit_transform(x_data)\n",
    "cdata_scaled = pd.DataFrame(x_scaled, columns=x_data.columns)\n",
    "cdata_scaled[\"csat_score\"] = cdata[\"csat_score\"].values"
   ]
  },
  {
   "cell_type": "code",
   "execution_count": 30,
   "id": "1855f34e",
   "metadata": {},
   "outputs": [],
   "source": [
    "with open(\"robust_scaler.pkl\",\"wb\") as f:\n",
    "    pickle.dump(scaler, f)"
   ]
  },
  {
   "cell_type": "code",
   "execution_count": 31,
   "id": "e3aec99a",
   "metadata": {},
   "outputs": [
    {
     "data": {
      "text/html": [
       "<div>\n",
       "<style scoped>\n",
       "    .dataframe tbody tr th:only-of-type {\n",
       "        vertical-align: middle;\n",
       "    }\n",
       "\n",
       "    .dataframe tbody tr th {\n",
       "        vertical-align: top;\n",
       "    }\n",
       "\n",
       "    .dataframe thead th {\n",
       "        text-align: right;\n",
       "    }\n",
       "</style>\n",
       "<table border=\"1\" class=\"dataframe\">\n",
       "  <thead>\n",
       "    <tr style=\"text-align: right;\">\n",
       "      <th></th>\n",
       "      <th>channel_name</th>\n",
       "      <th>category</th>\n",
       "      <th>sub-category</th>\n",
       "      <th>customer_city</th>\n",
       "      <th>product_category</th>\n",
       "      <th>item_price</th>\n",
       "      <th>connected_handling_time</th>\n",
       "      <th>agent_name</th>\n",
       "      <th>supervisor</th>\n",
       "      <th>manager</th>\n",
       "      <th>tenure_bucket</th>\n",
       "      <th>agent_shift</th>\n",
       "      <th>sentiment_score</th>\n",
       "      <th>issue_resolution_time</th>\n",
       "      <th>survey_response_time</th>\n",
       "      <th>csat_score</th>\n",
       "    </tr>\n",
       "  </thead>\n",
       "  <tbody>\n",
       "    <tr>\n",
       "      <th>0</th>\n",
       "      <td>1.0</td>\n",
       "      <td>-0.4</td>\n",
       "      <td>-0.739130</td>\n",
       "      <td>0.0</td>\n",
       "      <td>0.0</td>\n",
       "      <td>0.0</td>\n",
       "      <td>-0.306918</td>\n",
       "      <td>0.541908</td>\n",
       "      <td>0.40</td>\n",
       "      <td>-0.5</td>\n",
       "      <td>0.333333</td>\n",
       "      <td>0.0</td>\n",
       "      <td>0.0</td>\n",
       "      <td>0.528302</td>\n",
       "      <td>0.0</td>\n",
       "      <td>5</td>\n",
       "    </tr>\n",
       "    <tr>\n",
       "      <th>1</th>\n",
       "      <td>1.0</td>\n",
       "      <td>-0.4</td>\n",
       "      <td>-0.086957</td>\n",
       "      <td>0.0</td>\n",
       "      <td>0.0</td>\n",
       "      <td>0.0</td>\n",
       "      <td>-0.462893</td>\n",
       "      <td>0.904624</td>\n",
       "      <td>-0.45</td>\n",
       "      <td>0.5</td>\n",
       "      <td>0.000000</td>\n",
       "      <td>0.0</td>\n",
       "      <td>0.0</td>\n",
       "      <td>-0.075472</td>\n",
       "      <td>0.0</td>\n",
       "      <td>5</td>\n",
       "    </tr>\n",
       "  </tbody>\n",
       "</table>\n",
       "</div>"
      ],
      "text/plain": [
       "   channel_name  category  sub-category  customer_city  product_category  \\\n",
       "0           1.0      -0.4     -0.739130            0.0               0.0   \n",
       "1           1.0      -0.4     -0.086957            0.0               0.0   \n",
       "\n",
       "   item_price  connected_handling_time  agent_name  supervisor  manager  \\\n",
       "0         0.0                -0.306918    0.541908        0.40     -0.5   \n",
       "1         0.0                -0.462893    0.904624       -0.45      0.5   \n",
       "\n",
       "   tenure_bucket  agent_shift  sentiment_score  issue_resolution_time  \\\n",
       "0       0.333333          0.0              0.0               0.528302   \n",
       "1       0.000000          0.0              0.0              -0.075472   \n",
       "\n",
       "   survey_response_time  csat_score  \n",
       "0                   0.0           5  \n",
       "1                   0.0           5  "
      ]
     },
     "execution_count": 31,
     "metadata": {},
     "output_type": "execute_result"
    }
   ],
   "source": [
    "cdata_scaled.head(2)"
   ]
  },
  {
   "cell_type": "code",
   "execution_count": 32,
   "id": "8e602835",
   "metadata": {},
   "outputs": [
    {
     "name": "stdout",
     "output_type": "stream",
     "text": [
      "<class 'pandas.core.frame.DataFrame'>\n",
      "RangeIndex: 85906 entries, 0 to 85905\n",
      "Data columns (total 16 columns):\n",
      " #   Column                   Non-Null Count  Dtype  \n",
      "---  ------                   --------------  -----  \n",
      " 0   channel_name             85906 non-null  float64\n",
      " 1   category                 85906 non-null  float64\n",
      " 2   sub-category             85906 non-null  float64\n",
      " 3   customer_city            85906 non-null  float64\n",
      " 4   product_category         85906 non-null  float64\n",
      " 5   item_price               85906 non-null  float64\n",
      " 6   connected_handling_time  85906 non-null  float64\n",
      " 7   agent_name               85906 non-null  float64\n",
      " 8   supervisor               85906 non-null  float64\n",
      " 9   manager                  85906 non-null  float64\n",
      " 10  tenure_bucket            85906 non-null  float64\n",
      " 11  agent_shift              85906 non-null  float64\n",
      " 12  sentiment_score          85906 non-null  float64\n",
      " 13  issue_resolution_time    85906 non-null  float64\n",
      " 14  survey_response_time     85906 non-null  float64\n",
      " 15  csat_score               85906 non-null  int64  \n",
      "dtypes: float64(15), int64(1)\n",
      "memory usage: 10.5 MB\n"
     ]
    }
   ],
   "source": [
    "cdata_scaled.info()"
   ]
  },
  {
   "cell_type": "code",
   "execution_count": 33,
   "id": "fbd118cc",
   "metadata": {},
   "outputs": [
    {
     "name": "stdout",
     "output_type": "stream",
     "text": [
      "[LightGBM] [Info] Auto-choosing row-wise multi-threading, the overhead of testing was 0.005616 seconds.\n",
      "You can set `force_row_wise=true` to remove the overhead.\n",
      "And if memory is not enough, you can set `force_col_wise=true`.\n",
      "[LightGBM] [Info] Total Bins 3825\n",
      "[LightGBM] [Info] Number of data points in the train set: 238464, number of used features: 15\n",
      "[LightGBM] [Info] Start training from score -1.609434\n",
      "[LightGBM] [Info] Start training from score -1.609434\n",
      "[LightGBM] [Info] Start training from score -1.609434\n",
      "[LightGBM] [Info] Start training from score -1.609455\n",
      "[LightGBM] [Info] Start training from score -1.609434\n",
      "✅ Logged metrics and confusion matrix for LightGBM_Classifier\n",
      "🏃 View run LightGBM_classifier_test_run at: http://localhost:5000/#/experiments/765462807372361083/runs/a5d4e4a8ed824ca49ba05931c5badce0\n",
      "🧪 View experiment at: http://localhost:5000/#/experiments/765462807372361083\n"
     ]
    }
   ],
   "source": [
    "import lightgbm as lgb\n",
    "x_train, x_test, y_train, y_test = data_split(cdata_scaled, rebalance = True)\n",
    "expriment_name=\"Inital_Model_test\"\n",
    "model_name=\"LightGBM_Classifier\"\n",
    "run_name=\"LightGBM_classifier_test_run\"\n",
    "try:\n",
    "    mlflow.create_experiment(expriment_name)\n",
    "except:\n",
    "    mlflow.set_experiment(expriment_name)\n",
    "\n",
    "with mlflow.start_run(run_name=run_name):\n",
    "    params = {\n",
    "        \"objective\": \"multiclass\",\n",
    "        \"num_class\": 5,\n",
    "        \"boosting_type\": \"gbdt\",\n",
    "        \"metric\": [\"multi_logloss\", \"multi_error\"],\n",
    "        \"learning_rate\": 0.05,\n",
    "        \"num_leaves\": 31,\n",
    "        \"max_depth\": -1,\n",
    "        \"is_unbalance\": True,\n",
    "        \"n_jobs\": -1,\n",
    "        \"random_state\": 42\n",
    "    }\n",
    "\n",
    "    # Log parameters\n",
    "    mlflow.log_params(params)\n",
    "        # Train\n",
    "    model= lgb.LGBMClassifier(**params, n_estimators=1000)\n",
    "    model.fit(x_train, y_train)\n",
    "\n",
    "    # Predictions\n",
    "    y_pred = model.predict(x_test)\n",
    "    \n",
    "    logging(y_test, y_pred, model_name=model_name)\n",
    "    sign=mlflow.models.infer_signature(x_train, model.predict(x_train))\n",
    "    mlflow.sklearn.log_model(model,name= model_name, signature=sign)"
   ]
  },
  {
   "cell_type": "markdown",
   "id": "9029687e",
   "metadata": {},
   "source": [
    "#### Hyperparameters Tuning Using MLFLOW"
   ]
  },
  {
   "cell_type": "code",
   "execution_count": 34,
   "id": "b9e597b1",
   "metadata": {},
   "outputs": [],
   "source": [
    "import optuna"
   ]
  },
  {
   "cell_type": "code",
   "execution_count": 35,
   "id": "3f57368a",
   "metadata": {},
   "outputs": [],
   "source": [
    "def objective_rf(trial):\n",
    "    run_name=\"Randomforest_optimization_run\"\n",
    "    model_name=\"Random_Forest_Classifier\"\n",
    "    with mlflow.start_run(nested=True, run_name=run_name):\n",
    "        x_train, x_test, y_train, y_test = data_split(cdata_scaled, rebalance = True)  # Nested run under Optuna main run\n",
    "        # Suggest hyperparameters\n",
    "        n_estimators = trial.suggest_int(\"n_estimators\", 100, 1000, step=100)\n",
    "        max_depth = trial.suggest_int(\"max_depth\", 5, 20)\n",
    "        min_samples_split = trial.suggest_int(\"min_samples_split\", 2, 10)\n",
    "        min_samples_leaf = trial.suggest_int(\"min_samples_leaf\", 1, 5)\n",
    "        bootstrap = trial.suggest_categorical(\"bootstrap\", [True, False])\n",
    "\n",
    "        # Initialize model\n",
    "        model = RandomForestClassifier(\n",
    "            n_estimators=n_estimators,\n",
    "            max_depth=max_depth,\n",
    "            min_samples_split=min_samples_split,\n",
    "            min_samples_leaf=min_samples_leaf,\n",
    "            bootstrap=bootstrap,\n",
    "            class_weight=\"balanced\",\n",
    "            n_jobs=-1,\n",
    "            random_state=42\n",
    "        )\n",
    "\n",
    "        model.fit(x_train, y_train)\n",
    "        preds = model.predict(x_test)\n",
    "\n",
    "        #acc = accuracy_score(y_test, preds)\n",
    "        f1 = f1_score(y_test, preds, average='weighted')\n",
    "\n",
    "        # Log params & metrics to MLflow\n",
    "        mlflow.log_params({\n",
    "            \"n_estimators\": n_estimators,\n",
    "            \"max_depth\": max_depth,\n",
    "            \"min_samples_split\": min_samples_split,\n",
    "            \"min_samples_leaf\": min_samples_leaf,\n",
    "            \"bootstrap\": bootstrap\n",
    "        })\n",
    "        logging(y_test, preds, model_name=model_name)\n",
    "\n",
    "\n",
    "        return f1  # Optimize for F1 (weighted)\n"
   ]
  },
  {
   "cell_type": "code",
   "execution_count": 36,
   "id": "be3d9194",
   "metadata": {},
   "outputs": [],
   "source": [
    "def objective_lgbm(trial):\n",
    "    run_name=\"lightgbm_optimization_run\"\n",
    "    model_name=\"LightGBM_Classifier\"\n",
    "    with mlflow.start_run(nested=True, run_name=run_name):\n",
    "        x_train, x_test, y_train, y_test = data_split(cdata_scaled, rebalance = True)\n",
    "        # Suggest hyperparameters\n",
    "        params = {\n",
    "            \"objective\": \"multiclass\",\n",
    "            \"num_class\": 5,\n",
    "            \"boosting_type\": \"gbdt\",\n",
    "            \"learning_rate\": trial.suggest_float(\"learning_rate\", 0.01, 0.3, log=True),\n",
    "            \"num_leaves\": trial.suggest_int(\"num_leaves\", 20, 150),\n",
    "            \"max_depth\": trial.suggest_int(\"max_depth\", -1, 20),\n",
    "            \"min_child_samples\": trial.suggest_int(\"min_child_samples\", 10, 100),\n",
    "            \"subsample\": trial.suggest_float(\"subsample\", 0.5, 1.0),\n",
    "            \"colsample_bytree\": trial.suggest_float(\"colsample_bytree\", 0.5, 1.0),\n",
    "            \"n_estimators\": trial.suggest_int(\"n_estimators\", 100, 1000, step=100),\n",
    "            \"is_unbalance\": True,\n",
    "            \"random_state\": 42,\n",
    "            \"n_jobs\": -1\n",
    "        }\n",
    "        from lightgbm import LGBMClassifier\n",
    "        # Train\n",
    "        model = LGBMClassifier(**params)\n",
    "        model.fit(x_train, y_train)\n",
    "\n",
    "        preds = model.predict(x_test)\n",
    "        #acc = accuracy_score(y_test, preds)\n",
    "        f1 = f1_score(y_test, preds, average='weighted')\n",
    "        logging(y_test, preds, model_name=model_name)\n",
    "        mlflow.log_params(params)\n",
    "\n",
    "\n",
    "        return f1\n",
    "\n"
   ]
  },
  {
   "cell_type": "code",
   "execution_count": 37,
   "id": "0bf8af4e",
   "metadata": {},
   "outputs": [
    {
     "name": "stderr",
     "output_type": "stream",
     "text": [
      "[I 2025-10-20 08:13:51,231] A new study created in memory with name: Random_forest_Study_v3\n"
     ]
    },
    {
     "name": "stdout",
     "output_type": "stream",
     "text": [
      "🔍 Optimizing RandomForest...\n"
     ]
    },
    {
     "name": "stderr",
     "output_type": "stream",
     "text": [
      "[I 2025-10-20 08:14:37,841] Trial 0 finished with value: 0.5105568099669693 and parameters: {'n_estimators': 400, 'max_depth': 10, 'min_samples_split': 6, 'min_samples_leaf': 5, 'bootstrap': False}. Best is trial 0 with value: 0.5105568099669693.\n"
     ]
    },
    {
     "name": "stdout",
     "output_type": "stream",
     "text": [
      "✅ Logged metrics and confusion matrix for Random_Forest_Classifier\n",
      "🏃 View run Randomforest_optimization_run at: http://localhost:5000/#/experiments/862333073409087495/runs/4f678e79fce64b0b98217be9a7214348\n",
      "🧪 View experiment at: http://localhost:5000/#/experiments/862333073409087495\n"
     ]
    },
    {
     "name": "stderr",
     "output_type": "stream",
     "text": [
      "[I 2025-10-20 08:15:45,869] Trial 1 finished with value: 0.625599190154961 and parameters: {'n_estimators': 500, 'max_depth': 13, 'min_samples_split': 6, 'min_samples_leaf': 1, 'bootstrap': False}. Best is trial 1 with value: 0.625599190154961.\n"
     ]
    },
    {
     "name": "stdout",
     "output_type": "stream",
     "text": [
      "✅ Logged metrics and confusion matrix for Random_Forest_Classifier\n",
      "🏃 View run Randomforest_optimization_run at: http://localhost:5000/#/experiments/862333073409087495/runs/53849f52663348069b55f3e54a09ad8b\n",
      "🧪 View experiment at: http://localhost:5000/#/experiments/862333073409087495\n"
     ]
    },
    {
     "name": "stderr",
     "output_type": "stream",
     "text": [
      "[I 2025-10-20 08:17:22,914] Trial 2 finished with value: 0.642512751678763 and parameters: {'n_estimators': 1000, 'max_depth': 14, 'min_samples_split': 10, 'min_samples_leaf': 5, 'bootstrap': True}. Best is trial 2 with value: 0.642512751678763.\n"
     ]
    },
    {
     "name": "stdout",
     "output_type": "stream",
     "text": [
      "✅ Logged metrics and confusion matrix for Random_Forest_Classifier\n",
      "🏃 View run Randomforest_optimization_run at: http://localhost:5000/#/experiments/862333073409087495/runs/b6c2d828454d4e3ba7deed86728a128c\n",
      "🧪 View experiment at: http://localhost:5000/#/experiments/862333073409087495\n"
     ]
    },
    {
     "name": "stderr",
     "output_type": "stream",
     "text": [
      "[I 2025-10-20 08:17:54,859] Trial 3 finished with value: 0.6545178890032779 and parameters: {'n_estimators': 200, 'max_depth': 14, 'min_samples_split': 3, 'min_samples_leaf': 4, 'bootstrap': False}. Best is trial 3 with value: 0.6545178890032779.\n"
     ]
    },
    {
     "name": "stdout",
     "output_type": "stream",
     "text": [
      "✅ Logged metrics and confusion matrix for Random_Forest_Classifier\n",
      "🏃 View run Randomforest_optimization_run at: http://localhost:5000/#/experiments/862333073409087495/runs/6435907b396e41f08098d4258701d747\n",
      "🧪 View experiment at: http://localhost:5000/#/experiments/862333073409087495\n"
     ]
    },
    {
     "name": "stderr",
     "output_type": "stream",
     "text": [
      "[I 2025-10-20 08:18:45,692] Trial 4 finished with value: 0.6157273042456126 and parameters: {'n_estimators': 500, 'max_depth': 13, 'min_samples_split': 2, 'min_samples_leaf': 3, 'bootstrap': True}. Best is trial 3 with value: 0.6545178890032779.\n"
     ]
    },
    {
     "name": "stdout",
     "output_type": "stream",
     "text": [
      "✅ Logged metrics and confusion matrix for Random_Forest_Classifier\n",
      "🏃 View run Randomforest_optimization_run at: http://localhost:5000/#/experiments/862333073409087495/runs/222447ca47dd4b52afe16f2918e83adb\n",
      "🧪 View experiment at: http://localhost:5000/#/experiments/862333073409087495\n"
     ]
    },
    {
     "name": "stderr",
     "output_type": "stream",
     "text": [
      "[I 2025-10-20 08:19:09,395] Trial 5 finished with value: 0.609040738897211 and parameters: {'n_estimators': 200, 'max_depth': 13, 'min_samples_split': 2, 'min_samples_leaf': 5, 'bootstrap': True}. Best is trial 3 with value: 0.6545178890032779.\n"
     ]
    },
    {
     "name": "stdout",
     "output_type": "stream",
     "text": [
      "✅ Logged metrics and confusion matrix for Random_Forest_Classifier\n",
      "🏃 View run Randomforest_optimization_run at: http://localhost:5000/#/experiments/862333073409087495/runs/1970bdfc21ff43a9a867a5cc5abe5c09\n",
      "🧪 View experiment at: http://localhost:5000/#/experiments/862333073409087495\n"
     ]
    },
    {
     "name": "stderr",
     "output_type": "stream",
     "text": [
      "[I 2025-10-20 08:20:01,655] Trial 6 finished with value: 0.41049493804709525 and parameters: {'n_estimators': 800, 'max_depth': 7, 'min_samples_split': 2, 'min_samples_leaf': 2, 'bootstrap': True}. Best is trial 3 with value: 0.6545178890032779.\n"
     ]
    },
    {
     "name": "stdout",
     "output_type": "stream",
     "text": [
      "✅ Logged metrics and confusion matrix for Random_Forest_Classifier\n",
      "🏃 View run Randomforest_optimization_run at: http://localhost:5000/#/experiments/862333073409087495/runs/20dd830cd08b4e7dbd2176b8d8318764\n",
      "🧪 View experiment at: http://localhost:5000/#/experiments/862333073409087495\n"
     ]
    },
    {
     "name": "stderr",
     "output_type": "stream",
     "text": [
      "[I 2025-10-20 08:21:19,640] Trial 7 finished with value: 0.5108871089457478 and parameters: {'n_estimators': 700, 'max_depth': 10, 'min_samples_split': 7, 'min_samples_leaf': 5, 'bootstrap': False}. Best is trial 3 with value: 0.6545178890032779.\n"
     ]
    },
    {
     "name": "stdout",
     "output_type": "stream",
     "text": [
      "✅ Logged metrics and confusion matrix for Random_Forest_Classifier\n",
      "🏃 View run Randomforest_optimization_run at: http://localhost:5000/#/experiments/862333073409087495/runs/4d3554e445a346408320ac1a5b693e96\n",
      "🧪 View experiment at: http://localhost:5000/#/experiments/862333073409087495\n"
     ]
    },
    {
     "name": "stderr",
     "output_type": "stream",
     "text": [
      "[I 2025-10-20 08:22:23,569] Trial 8 finished with value: 0.5822891218495815 and parameters: {'n_estimators': 700, 'max_depth': 12, 'min_samples_split': 10, 'min_samples_leaf': 2, 'bootstrap': True}. Best is trial 3 with value: 0.6545178890032779.\n"
     ]
    },
    {
     "name": "stdout",
     "output_type": "stream",
     "text": [
      "✅ Logged metrics and confusion matrix for Random_Forest_Classifier\n",
      "🏃 View run Randomforest_optimization_run at: http://localhost:5000/#/experiments/862333073409087495/runs/c16df2e946ed433385412914a444395c\n",
      "🧪 View experiment at: http://localhost:5000/#/experiments/862333073409087495\n",
      "✅ Logged metrics and confusion matrix for Random_Forest_Classifier\n",
      "🏃 View run Randomforest_optimization_run at: http://localhost:5000/#/experiments/862333073409087495/runs/9a88031da7f045098c1cb3b07698e480\n",
      "🧪 View experiment at: http://localhost:5000/#/experiments/862333073409087495\n"
     ]
    },
    {
     "name": "stderr",
     "output_type": "stream",
     "text": [
      "[I 2025-10-20 08:24:54,950] Trial 9 finished with value: 0.7188628387591779 and parameters: {'n_estimators': 1000, 'max_depth': 16, 'min_samples_split': 8, 'min_samples_leaf': 2, 'bootstrap': False}. Best is trial 9 with value: 0.7188628387591779.\n"
     ]
    },
    {
     "name": "stdout",
     "output_type": "stream",
     "text": [
      "✅ Logged metrics and confusion matrix for Random_Forest_Classifier\n",
      "🏃 View run Randomforest_optimization_run at: http://localhost:5000/#/experiments/862333073409087495/runs/68079221be32405982abe887b5a9bab3\n",
      "🧪 View experiment at: http://localhost:5000/#/experiments/862333073409087495\n"
     ]
    },
    {
     "name": "stderr",
     "output_type": "stream",
     "text": [
      "[I 2025-10-20 08:27:39,034] Trial 10 finished with value: 0.7900966295405889 and parameters: {'n_estimators': 1000, 'max_depth': 19, 'min_samples_split': 8, 'min_samples_leaf': 1, 'bootstrap': False}. Best is trial 10 with value: 0.7900966295405889.\n"
     ]
    },
    {
     "name": "stdout",
     "output_type": "stream",
     "text": [
      "✅ Logged metrics and confusion matrix for Random_Forest_Classifier\n",
      "🏃 View run Randomforest_optimization_run at: http://localhost:5000/#/experiments/862333073409087495/runs/d808191d85634f6e80fa6abe1338b3be\n",
      "🧪 View experiment at: http://localhost:5000/#/experiments/862333073409087495\n"
     ]
    },
    {
     "name": "stderr",
     "output_type": "stream",
     "text": [
      "[I 2025-10-20 08:30:28,233] Trial 11 finished with value: 0.8076543008744536 and parameters: {'n_estimators': 1000, 'max_depth': 20, 'min_samples_split': 8, 'min_samples_leaf': 1, 'bootstrap': False}. Best is trial 11 with value: 0.8076543008744536.\n"
     ]
    },
    {
     "name": "stdout",
     "output_type": "stream",
     "text": [
      "✅ Logged metrics and confusion matrix for Random_Forest_Classifier\n",
      "🏃 View run Randomforest_optimization_run at: http://localhost:5000/#/experiments/862333073409087495/runs/739eea5fd03e42ca9b0fe979d4909b28\n",
      "🧪 View experiment at: http://localhost:5000/#/experiments/862333073409087495\n"
     ]
    },
    {
     "name": "stderr",
     "output_type": "stream",
     "text": [
      "[I 2025-10-20 08:33:00,204] Trial 12 finished with value: 0.8078015844792449 and parameters: {'n_estimators': 900, 'max_depth': 20, 'min_samples_split': 8, 'min_samples_leaf': 1, 'bootstrap': False}. Best is trial 12 with value: 0.8078015844792449.\n"
     ]
    },
    {
     "name": "stdout",
     "output_type": "stream",
     "text": [
      "✅ Logged metrics and confusion matrix for Random_Forest_Classifier\n",
      "🏃 View run Randomforest_optimization_run at: http://localhost:5000/#/experiments/862333073409087495/runs/a536e30dcb8249a7b1718fb2e8f7bd15\n",
      "🧪 View experiment at: http://localhost:5000/#/experiments/862333073409087495\n"
     ]
    },
    {
     "name": "stderr",
     "output_type": "stream",
     "text": [
      "[I 2025-10-20 08:35:16,784] Trial 13 finished with value: 0.8070978668874884 and parameters: {'n_estimators': 800, 'max_depth': 20, 'min_samples_split': 8, 'min_samples_leaf': 1, 'bootstrap': False}. Best is trial 12 with value: 0.8078015844792449.\n",
      "[I 2025-10-20 08:37:39,958] Trial 14 finished with value: 0.7651423259447507 and parameters: {'n_estimators': 900, 'max_depth': 18, 'min_samples_split': 5, 'min_samples_leaf': 3, 'bootstrap': False}. Best is trial 12 with value: 0.8078015844792449.\n"
     ]
    },
    {
     "name": "stdout",
     "output_type": "stream",
     "text": [
      "✅ Logged metrics and confusion matrix for Random_Forest_Classifier\n",
      "🏃 View run Randomforest_optimization_run at: http://localhost:5000/#/experiments/862333073409087495/runs/e791839fa9cd4f1d85026f18cac1f174\n",
      "🧪 View experiment at: http://localhost:5000/#/experiments/862333073409087495\n"
     ]
    },
    {
     "name": "stderr",
     "output_type": "stream",
     "text": [
      "[I 2025-10-20 08:39:46,532] Trial 15 finished with value: 0.746035718894705 and parameters: {'n_estimators': 800, 'max_depth': 17, 'min_samples_split': 9, 'min_samples_leaf': 1, 'bootstrap': False}. Best is trial 12 with value: 0.8078015844792449.\n"
     ]
    },
    {
     "name": "stdout",
     "output_type": "stream",
     "text": [
      "✅ Logged metrics and confusion matrix for Random_Forest_Classifier\n",
      "🏃 View run Randomforest_optimization_run at: http://localhost:5000/#/experiments/862333073409087495/runs/61722c8d82684ca4a3839f41c27b87d6\n",
      "🧪 View experiment at: http://localhost:5000/#/experiments/862333073409087495\n",
      "✅ Logged metrics and confusion matrix for Random_Forest_Classifier\n",
      "🏃 View run Randomforest_optimization_run at: http://localhost:5000/#/experiments/862333073409087495/runs/d23bf64b9b574978a22f446f9f690fbb\n",
      "🧪 View experiment at: http://localhost:5000/#/experiments/862333073409087495\n"
     ]
    },
    {
     "name": "stderr",
     "output_type": "stream",
     "text": [
      "[I 2025-10-20 08:42:20,754] Trial 16 finished with value: 0.8071639100953919 and parameters: {'n_estimators': 900, 'max_depth': 20, 'min_samples_split': 5, 'min_samples_leaf': 2, 'bootstrap': False}. Best is trial 12 with value: 0.8078015844792449.\n",
      "[I 2025-10-20 08:43:53,815] Trial 17 finished with value: 0.7191738927516963 and parameters: {'n_estimators': 600, 'max_depth': 16, 'min_samples_split': 9, 'min_samples_leaf': 1, 'bootstrap': False}. Best is trial 12 with value: 0.8078015844792449.\n"
     ]
    },
    {
     "name": "stdout",
     "output_type": "stream",
     "text": [
      "✅ Logged metrics and confusion matrix for Random_Forest_Classifier\n",
      "🏃 View run Randomforest_optimization_run at: http://localhost:5000/#/experiments/862333073409087495/runs/bbed14371c6d46e3b6c11486a9a471f1\n",
      "🧪 View experiment at: http://localhost:5000/#/experiments/862333073409087495\n"
     ]
    },
    {
     "name": "stderr",
     "output_type": "stream",
     "text": [
      "[I 2025-10-20 08:46:16,797] Trial 18 finished with value: 0.760024841972765 and parameters: {'n_estimators': 900, 'max_depth': 18, 'min_samples_split': 7, 'min_samples_leaf': 4, 'bootstrap': False}. Best is trial 12 with value: 0.8078015844792449.\n"
     ]
    },
    {
     "name": "stdout",
     "output_type": "stream",
     "text": [
      "✅ Logged metrics and confusion matrix for Random_Forest_Classifier\n",
      "🏃 View run Randomforest_optimization_run at: http://localhost:5000/#/experiments/862333073409087495/runs/bebdb6644203418ebb15f7bd5433f78b\n",
      "🧪 View experiment at: http://localhost:5000/#/experiments/862333073409087495\n"
     ]
    },
    {
     "name": "stderr",
     "output_type": "stream",
     "text": [
      "[I 2025-10-20 08:46:40,582] Trial 19 finished with value: 0.3494542772001469 and parameters: {'n_estimators': 300, 'max_depth': 5, 'min_samples_split': 4, 'min_samples_leaf': 2, 'bootstrap': False}. Best is trial 12 with value: 0.8078015844792449.\n",
      "[I 2025-10-20 08:46:40,609] A new study created in memory with name: LightGBM_v1_Study_v3\n"
     ]
    },
    {
     "name": "stdout",
     "output_type": "stream",
     "text": [
      "✅ Logged metrics and confusion matrix for Random_Forest_Classifier\n",
      "🏃 View run Randomforest_optimization_run at: http://localhost:5000/#/experiments/862333073409087495/runs/4aac15a839e5453e9c6c679ad0f18a5a\n",
      "🧪 View experiment at: http://localhost:5000/#/experiments/862333073409087495\n",
      "✅ Best RandomForest F1: 0.8078015844792449\n",
      "\n",
      "🔍 Optimizing LightGBM...\n",
      "✅ Best LightGBM F1:\n",
      "🏃 View run Optuna_RF_and_LGBM_Tuning_v2 at: http://localhost:5000/#/experiments/862333073409087495/runs/dbdffd3703894848a5990a037bd4d017\n",
      "🧪 View experiment at: http://localhost:5000/#/experiments/862333073409087495\n"
     ]
    }
   ],
   "source": [
    "\n",
    "mlflow.set_experiment(\"CSAT_Optuna_Tuning_version_3\")\n",
    "\n",
    "with mlflow.start_run(run_name=\"Optuna_RF_and_LGBM_Tuning_v2\"):\n",
    "    # ----------------------------\n",
    "    # RandomForest Optimization\n",
    "    # ----------------------------\n",
    "    print(\"🔍 Optimizing RandomForest...\")\n",
    "    study_rf = optuna.create_study(direction=\"maximize\", study_name=\"Random_forest_Study_v3\")\n",
    "    try:\n",
    "        study_rf.optimize(objective_rf, n_trials=20)\n",
    "    finally:\n",
    "        print(\"✅ Best RandomForest F1:\", study_rf.best_value)\n",
    "        mlflow.log_params(study_rf.best_params)\n",
    "    \n",
    "\n",
    "    # ----------------------------\n",
    "    # LightGBM Optimization\n",
    "    # ----------------------------\n",
    "    print(\"\\n🔍 Optimizing LightGBM...\")\n",
    "    study_lgbm = optuna.create_study(direction=\"maximize\", study_name=\"LightGBM_v1_Study_v3\")\n",
    "\n",
    "    print(\"✅ Best LightGBM F1:\")\n",
    "\n"
   ]
  },
  {
   "cell_type": "markdown",
   "id": "3f028847",
   "metadata": {},
   "source": [
    "Selected Model After MLFLOW hyperparameter tuning found LightGBM Best Model with below Hyperparameters:"
   ]
  },
  {
   "cell_type": "code",
   "execution_count": 38,
   "id": "10416a1a",
   "metadata": {},
   "outputs": [
    {
     "name": "stdout",
     "output_type": "stream",
     "text": [
      "[LightGBM] [Info] Auto-choosing row-wise multi-threading, the overhead of testing was 0.005891 seconds.\n",
      "You can set `force_row_wise=true` to remove the overhead.\n",
      "And if memory is not enough, you can set `force_col_wise=true`.\n",
      "[LightGBM] [Info] Total Bins 3825\n",
      "[LightGBM] [Info] Number of data points in the train set: 238464, number of used features: 15\n",
      "[LightGBM] [Info] Start training from score -1.609434\n",
      "[LightGBM] [Info] Start training from score -1.609434\n",
      "[LightGBM] [Info] Start training from score -1.609434\n",
      "[LightGBM] [Info] Start training from score -1.609455\n",
      "[LightGBM] [Info] Start training from score -1.609434\n",
      "[LightGBM] [Warning] No further splits with positive gain, best gain: -inf\n",
      "[LightGBM] [Warning] No further splits with positive gain, best gain: -inf\n",
      "[LightGBM] [Warning] No further splits with positive gain, best gain: -inf\n",
      "✅ Logged metrics and confusion matrix for LightGBM_Classifier\n",
      "🏃 View run LightGBM_classifier_Finalized_run at: http://localhost:5000/#/experiments/591847767930663279/runs/248faf7158f64a28a9ae6e6507e2e009\n",
      "🧪 View experiment at: http://localhost:5000/#/experiments/591847767930663279\n"
     ]
    }
   ],
   "source": [
    "import lightgbm as lgb\n",
    "x_train, x_test, y_train, y_test = data_split(cdata_scaled, rebalance = True)\n",
    "expriment_name=\"Finalized_Model_test\"\n",
    "model_name=\"LightGBM_Classifier\"\n",
    "run_name=\"LightGBM_classifier_Finalized_run\"\n",
    "\n",
    "mlflow.set_experiment(expriment_name)\n",
    "\n",
    "with mlflow.start_run(run_name=run_name):\n",
    "    params = {\n",
    "        \"objective\": \"multiclass\",\n",
    "        \"num_class\": 5,\n",
    "        \"boosting_type\": \"gbdt\",\n",
    "        \"metric\": [\"multi_logloss\", \"multi_error\"],\n",
    "        \"learning_rate\": 0.21120885434995168,\n",
    "        \"num_leaves\": 118,\n",
    "        \"max_depth\": 15,\n",
    "        \"is_unbalance\": True,\n",
    "        \"n_jobs\": -1,\n",
    "        \"random_state\": 42,\n",
    "        \"colsample_bytree\": 0.9274020881864936,\n",
    "        \"min_child_samples\": 98,\n",
    "        \"subsample\": 0.7950961983975374\n",
    "    }\n",
    "\n",
    "    # Log parameters\n",
    "    mlflow.log_params(params)\n",
    "        # Train\n",
    "    model= lgb.LGBMClassifier(**params, n_estimators=700    )\n",
    "    model.fit(x_train, y_train)\n",
    "\n",
    "    # Predictions\n",
    "    y_pred = model.predict(x_test)\n",
    "    \n",
    "    logging(y_test, y_pred, model_name=model_name)\n",
    "    sign=mlflow.models.infer_signature(x_train, model.predict(x_train))\n",
    "    mlflow.sklearn.log_model(model,name= model_name, signature=sign)"
   ]
  },
  {
   "cell_type": "markdown",
   "id": "bebd4444",
   "metadata": {},
   "source": [
    "Saving light GBM as Best model "
   ]
  },
  {
   "cell_type": "code",
   "execution_count": 39,
   "id": "7e091117",
   "metadata": {},
   "outputs": [
    {
     "name": "stdout",
     "output_type": "stream",
     "text": [
      "[LightGBM] [Info] Auto-choosing row-wise multi-threading, the overhead of testing was 0.007500 seconds.\n",
      "You can set `force_row_wise=true` to remove the overhead.\n",
      "And if memory is not enough, you can set `force_col_wise=true`.\n",
      "[LightGBM] [Info] Total Bins 3825\n",
      "[LightGBM] [Info] Number of data points in the train set: 238464, number of used features: 15\n",
      "[LightGBM] [Info] Start training from score -1.609434\n",
      "[LightGBM] [Info] Start training from score -1.609434\n",
      "[LightGBM] [Info] Start training from score -1.609434\n",
      "[LightGBM] [Info] Start training from score -1.609455\n",
      "[LightGBM] [Info] Start training from score -1.609434\n",
      "[LightGBM] [Warning] No further splits with positive gain, best gain: -inf\n",
      "[LightGBM] [Warning] No further splits with positive gain, best gain: -inf\n",
      "[LightGBM] [Warning] No further splits with positive gain, best gain: -inf\n"
     ]
    },
    {
     "data": {
      "text/plain": [
       "0.8817096081588836"
      ]
     },
     "execution_count": 39,
     "metadata": {},
     "output_type": "execute_result"
    }
   ],
   "source": [
    "x_train, x_test, y_train, y_test = data_split(cdata_scaled, rebalance = True)\n",
    "\n",
    "params = {\n",
    "    \"objective\": \"multiclass\",\n",
    "    \"num_class\": 5,\n",
    "    \"boosting_type\": \"gbdt\",\n",
    "    \"metric\": [\"multi_logloss\", \"multi_error\"],\n",
    "    \"learning_rate\": 0.21120885434995168,\n",
    "    \"num_leaves\": 118,\n",
    "    \"max_depth\": 15,\n",
    "    \"is_unbalance\": True,\n",
    "    \"n_jobs\": -1,\n",
    "    \"random_state\": 42,\n",
    "    \"colsample_bytree\": 0.9274020881864936,\n",
    "    \"min_child_samples\": 98,\n",
    "    \"subsample\": 0.7950961983975374\n",
    "}\n",
    "\n",
    "# Log parameters\n",
    "\n",
    "    # Train\n",
    "lightgbm_final = lgb.LGBMClassifier(**params, n_estimators=700)\n",
    "lightgbm_final.fit(x_train, y_train)\n",
    "\n",
    "y_pred = lightgbm_final.predict(x_test)\n",
    "accuracy_score(y_test, y_pred)"
   ]
  },
  {
   "cell_type": "code",
   "execution_count": 75,
   "id": "86eb2137",
   "metadata": {},
   "outputs": [
    {
     "name": "stdout",
     "output_type": "stream",
     "text": [
      "[LightGBM] [Info] Auto-choosing col-wise multi-threading, the overhead of testing was 0.010765 seconds.\n",
      "You can set `force_col_wise=true` to remove the overhead.\n",
      "[LightGBM] [Info] Total Bins 3824\n",
      "[LightGBM] [Info] Number of data points in the train set: 238464, number of used features: 15\n",
      "[LightGBM] [Info] Start training from score -1.609434\n",
      "[LightGBM] [Info] Start training from score -1.609434\n",
      "[LightGBM] [Info] Start training from score -1.609434\n",
      "[LightGBM] [Info] Start training from score -1.609455\n",
      "[LightGBM] [Info] Start training from score -1.609434\n",
      "[LightGBM] [Warning] No further splits with positive gain, best gain: -inf\n",
      "[LightGBM] [Warning] No further splits with positive gain, best gain: -inf\n"
     ]
    },
    {
     "data": {
      "text/plain": [
       "0.9097967545922288"
      ]
     },
     "execution_count": 75,
     "metadata": {},
     "output_type": "execute_result"
    }
   ],
   "source": [
    "x_train, x_test, y_train, y_test = data_split(cdata, rebalance = True)\n",
    "\n",
    "params = {\n",
    "    \"objective\": \"multiclass\",\n",
    "    \"num_class\": 5,\n",
    "    \"boosting_type\": \"gbdt\",\n",
    "    \"metric\": [\"multi_logloss\", \"multi_error\"],\n",
    "    \"learning_rate\": 0.21120885434995168,\n",
    "    \"num_leaves\": 118,\n",
    "    \"max_depth\": 15,\n",
    "    \"is_unbalance\": True,\n",
    "    \"n_jobs\": -1,\n",
    "    \"random_state\": 42,\n",
    "    \"colsample_bytree\": 0.9274020881864936,\n",
    "    \"min_child_samples\": 98,\n",
    "    \"subsample\": 0.7950961983975374\n",
    "}\n",
    "\n",
    "# Log parameters\n",
    "\n",
    "    # Train\n",
    "lightgbm_final = lgb.LGBMClassifier(**params, n_estimators=700)\n",
    "lightgbm_final.fit(x_train, y_train)\n",
    "\n",
    "y_pred = lightgbm_final.predict(cdata.drop(\"csat_score\", axis=1))\n",
    "accuracy_score(cdata[\"csat_score\"], y_pred)"
   ]
  },
  {
   "cell_type": "code",
   "execution_count": 73,
   "id": "87a1ee23",
   "metadata": {},
   "outputs": [],
   "source": [
    "with open(\"lightgbm_final_model.pkl\",\"wb\") as f:\n",
    "    pickle.dump(lightgbm_final, f)"
   ]
  },
  {
   "cell_type": "markdown",
   "id": "1449c68f",
   "metadata": {},
   "source": [
    "### Creating ANN Model with Best Hyperparameters found from MLFLOW Tuning"
   ]
  },
  {
   "cell_type": "code",
   "execution_count": 41,
   "id": "05cd75ea",
   "metadata": {},
   "outputs": [],
   "source": [
    "from tensorflow.keras.models import Sequential\n",
    "from tensorflow.keras.layers import Dense, Dropout, BatchNormalization\n",
    "from tensorflow.keras.utils import to_categorical\n",
    "from tensorflow.keras.callbacks import EarlyStopping\n",
    "from sklearn.metrics import classification_report, confusion_matrix\n",
    "from tensorflow.keras.optimizers import Adam\n",
    "from tensorflow.keras.metrics import (\n",
    "    Precision,\n",
    "    Recall,\n",
    "    AUC,\n",
    "    CategoricalAccuracy,\n",
    "    TopKCategoricalAccuracy\n",
    ")\n",
    "from tensorflow.keras.regularizers import l2"
   ]
  },
  {
   "cell_type": "code",
   "execution_count": 42,
   "id": "088a0fef",
   "metadata": {},
   "outputs": [
    {
     "data": {
      "text/plain": [
       "(85906, 16)"
      ]
     },
     "execution_count": 42,
     "metadata": {},
     "output_type": "execute_result"
    }
   ],
   "source": [
    "cdata.shape"
   ]
  },
  {
   "cell_type": "code",
   "execution_count": 43,
   "id": "ae90981f",
   "metadata": {},
   "outputs": [
    {
     "name": "stdout",
     "output_type": "stream",
     "text": [
      "Epoch 1/50\n",
      "\u001b[1m3816/3816\u001b[0m \u001b[32m━━━━━━━━━━━━━━━━━━━━\u001b[0m\u001b[37m\u001b[0m \u001b[1m9s\u001b[0m 2ms/step - accuracy: 0.2374 - auc: 0.5444 - loss: 10.1085 - precision: 0.2174 - recall: 0.0196 - top_2_accuracy: 0.4555 - val_accuracy: 0.2616 - val_auc: 0.5890 - val_loss: 1.5746 - val_precision: 0.0000e+00 - val_recall: 0.0000e+00 - val_top_2_accuracy: 0.4993\n",
      "Epoch 2/50\n",
      "\u001b[1m3816/3816\u001b[0m \u001b[32m━━━━━━━━━━━━━━━━━━━━\u001b[0m\u001b[37m\u001b[0m \u001b[1m7s\u001b[0m 2ms/step - accuracy: 0.2639 - auc: 0.5874 - loss: 1.5968 - precision: 0.5409 - recall: 0.0064 - top_2_accuracy: 0.5022 - val_accuracy: 0.2719 - val_auc: 0.6026 - val_loss: 1.5564 - val_precision: 0.7506 - val_recall: 0.0128 - val_top_2_accuracy: 0.5129\n",
      "Epoch 3/50\n",
      "\u001b[1m3816/3816\u001b[0m \u001b[32m━━━━━━━━━━━━━━━━━━━━\u001b[0m\u001b[37m\u001b[0m \u001b[1m7s\u001b[0m 2ms/step - accuracy: 0.2742 - auc: 0.6000 - loss: 1.5640 - precision: 0.6196 - recall: 0.0163 - top_2_accuracy: 0.5154 - val_accuracy: 0.2811 - val_auc: 0.6150 - val_loss: 1.5458 - val_precision: 0.6893 - val_recall: 0.0200 - val_top_2_accuracy: 0.5208\n",
      "Epoch 4/50\n",
      "\u001b[1m3816/3816\u001b[0m \u001b[32m━━━━━━━━━━━━━━━━━━━━\u001b[0m\u001b[37m\u001b[0m \u001b[1m6s\u001b[0m 2ms/step - accuracy: 0.2825 - auc: 0.6100 - loss: 1.5513 - precision: 0.6189 - recall: 0.0207 - top_2_accuracy: 0.5243 - val_accuracy: 0.3026 - val_auc: 0.6253 - val_loss: 1.5370 - val_precision: 0.7297 - val_recall: 0.0186 - val_top_2_accuracy: 0.5360\n",
      "Epoch 5/50\n",
      "\u001b[1m3816/3816\u001b[0m \u001b[32m━━━━━━━━━━━━━━━━━━━━\u001b[0m\u001b[37m\u001b[0m \u001b[1m6s\u001b[0m 2ms/step - accuracy: 0.2954 - auc: 0.6207 - loss: 1.5422 - precision: 0.6222 - recall: 0.0250 - top_2_accuracy: 0.5340 - val_accuracy: 0.3071 - val_auc: 0.6379 - val_loss: 1.5246 - val_precision: 0.7136 - val_recall: 0.0237 - val_top_2_accuracy: 0.5425\n",
      "Epoch 6/50\n",
      "\u001b[1m3816/3816\u001b[0m \u001b[32m━━━━━━━━━━━━━━━━━━━━\u001b[0m\u001b[37m\u001b[0m \u001b[1m6s\u001b[0m 2ms/step - accuracy: 0.3061 - auc: 0.6296 - loss: 1.5353 - precision: 0.6220 - recall: 0.0290 - top_2_accuracy: 0.5422 - val_accuracy: 0.3144 - val_auc: 0.6447 - val_loss: 1.5161 - val_precision: 0.7375 - val_recall: 0.0195 - val_top_2_accuracy: 0.5484\n",
      "Epoch 7/50\n",
      "\u001b[1m3816/3816\u001b[0m \u001b[32m━━━━━━━━━━━━━━━━━━━━\u001b[0m\u001b[37m\u001b[0m \u001b[1m6s\u001b[0m 2ms/step - accuracy: 0.3101 - auc: 0.6370 - loss: 1.5222 - precision: 0.6219 - recall: 0.0298 - top_2_accuracy: 0.5493 - val_accuracy: 0.3227 - val_auc: 0.6553 - val_loss: 1.5041 - val_precision: 0.6650 - val_recall: 0.0308 - val_top_2_accuracy: 0.5595\n",
      "Epoch 8/50\n",
      "\u001b[1m3816/3816\u001b[0m \u001b[32m━━━━━━━━━━━━━━━━━━━━\u001b[0m\u001b[37m\u001b[0m \u001b[1m7s\u001b[0m 2ms/step - accuracy: 0.3179 - auc: 0.6438 - loss: 1.5148 - precision: 0.6290 - recall: 0.0329 - top_2_accuracy: 0.5555 - val_accuracy: 0.3375 - val_auc: 0.6629 - val_loss: 1.4950 - val_precision: 0.7284 - val_recall: 0.0269 - val_top_2_accuracy: 0.5697\n",
      "Epoch 9/50\n",
      "\u001b[1m3816/3816\u001b[0m \u001b[32m━━━━━━━━━━━━━━━━━━━━\u001b[0m\u001b[37m\u001b[0m \u001b[1m7s\u001b[0m 2ms/step - accuracy: 0.3242 - auc: 0.6497 - loss: 1.5151 - precision: 0.6268 - recall: 0.0361 - top_2_accuracy: 0.5612 - val_accuracy: 0.3466 - val_auc: 0.6703 - val_loss: 1.4838 - val_precision: 0.7101 - val_recall: 0.0325 - val_top_2_accuracy: 0.5789\n",
      "Epoch 10/50\n",
      "\u001b[1m3816/3816\u001b[0m \u001b[32m━━━━━━━━━━━━━━━━━━━━\u001b[0m\u001b[37m\u001b[0m \u001b[1m7s\u001b[0m 2ms/step - accuracy: 0.3291 - auc: 0.6538 - loss: 1.5020 - precision: 0.6120 - recall: 0.0393 - top_2_accuracy: 0.5672 - val_accuracy: 0.3535 - val_auc: 0.6762 - val_loss: 1.4764 - val_precision: 0.7415 - val_recall: 0.0287 - val_top_2_accuracy: 0.5850\n",
      "Epoch 11/50\n",
      "\u001b[1m3816/3816\u001b[0m \u001b[32m━━━━━━━━━━━━━━━━━━━━\u001b[0m\u001b[37m\u001b[0m \u001b[1m6s\u001b[0m 2ms/step - accuracy: 0.3331 - auc: 0.6582 - loss: 1.4956 - precision: 0.6216 - recall: 0.0434 - top_2_accuracy: 0.5703 - val_accuracy: 0.3544 - val_auc: 0.6803 - val_loss: 1.4705 - val_precision: 0.7352 - val_recall: 0.0335 - val_top_2_accuracy: 0.5864\n",
      "Epoch 12/50\n",
      "\u001b[1m3816/3816\u001b[0m \u001b[32m━━━━━━━━━━━━━━━━━━━━\u001b[0m\u001b[37m\u001b[0m \u001b[1m7s\u001b[0m 2ms/step - accuracy: 0.3347 - auc: 0.6611 - loss: 1.4943 - precision: 0.6173 - recall: 0.0451 - top_2_accuracy: 0.5729 - val_accuracy: 0.3610 - val_auc: 0.6848 - val_loss: 1.4614 - val_precision: 0.6960 - val_recall: 0.0431 - val_top_2_accuracy: 0.5926\n",
      "Epoch 13/50\n",
      "\u001b[1m3816/3816\u001b[0m \u001b[32m━━━━━━━━━━━━━━━━━━━━\u001b[0m\u001b[37m\u001b[0m \u001b[1m6s\u001b[0m 2ms/step - accuracy: 0.3402 - auc: 0.6651 - loss: 1.4941 - precision: 0.6169 - recall: 0.0478 - top_2_accuracy: 0.5772 - val_accuracy: 0.3646 - val_auc: 0.6877 - val_loss: 1.4570 - val_precision: 0.7169 - val_recall: 0.0421 - val_top_2_accuracy: 0.5961\n",
      "Epoch 14/50\n",
      "\u001b[1m3816/3816\u001b[0m \u001b[32m━━━━━━━━━━━━━━━━━━━━\u001b[0m\u001b[37m\u001b[0m \u001b[1m6s\u001b[0m 2ms/step - accuracy: 0.3417 - auc: 0.6671 - loss: 1.4820 - precision: 0.6196 - recall: 0.0504 - top_2_accuracy: 0.5800 - val_accuracy: 0.3684 - val_auc: 0.6929 - val_loss: 1.4489 - val_precision: 0.7317 - val_recall: 0.0494 - val_top_2_accuracy: 0.6007\n",
      "Epoch 15/50\n",
      "\u001b[1m3816/3816\u001b[0m \u001b[32m━━━━━━━━━━━━━━━━━━━━\u001b[0m\u001b[37m\u001b[0m \u001b[1m6s\u001b[0m 2ms/step - accuracy: 0.3445 - auc: 0.6698 - loss: 1.4837 - precision: 0.6226 - recall: 0.0530 - top_2_accuracy: 0.5815 - val_accuracy: 0.3717 - val_auc: 0.6956 - val_loss: 1.4438 - val_precision: 0.7022 - val_recall: 0.0534 - val_top_2_accuracy: 0.6033\n",
      "Epoch 16/50\n",
      "\u001b[1m3816/3816\u001b[0m \u001b[32m━━━━━━━━━━━━━━━━━━━━\u001b[0m\u001b[37m\u001b[0m \u001b[1m7s\u001b[0m 2ms/step - accuracy: 0.3447 - auc: 0.6712 - loss: 1.4759 - precision: 0.6232 - recall: 0.0544 - top_2_accuracy: 0.5825 - val_accuracy: 0.3743 - val_auc: 0.6980 - val_loss: 1.4375 - val_precision: 0.7137 - val_recall: 0.0555 - val_top_2_accuracy: 0.6072\n",
      "Epoch 17/50\n",
      "\u001b[1m3816/3816\u001b[0m \u001b[32m━━━━━━━━━━━━━━━━━━━━\u001b[0m\u001b[37m\u001b[0m \u001b[1m6s\u001b[0m 2ms/step - accuracy: 0.3483 - auc: 0.6738 - loss: 1.4719 - precision: 0.6281 - recall: 0.0583 - top_2_accuracy: 0.5860 - val_accuracy: 0.3771 - val_auc: 0.7009 - val_loss: 1.4342 - val_precision: 0.7437 - val_recall: 0.0554 - val_top_2_accuracy: 0.6076\n",
      "Epoch 18/50\n",
      "\u001b[1m3816/3816\u001b[0m \u001b[32m━━━━━━━━━━━━━━━━━━━━\u001b[0m\u001b[37m\u001b[0m \u001b[1m6s\u001b[0m 2ms/step - accuracy: 0.3507 - auc: 0.6763 - loss: 1.4717 - precision: 0.6278 - recall: 0.0612 - top_2_accuracy: 0.5874 - val_accuracy: 0.3796 - val_auc: 0.7022 - val_loss: 1.4304 - val_precision: 0.7397 - val_recall: 0.0540 - val_top_2_accuracy: 0.6104\n",
      "Epoch 19/50\n",
      "\u001b[1m3816/3816\u001b[0m \u001b[32m━━━━━━━━━━━━━━━━━━━━\u001b[0m\u001b[37m\u001b[0m \u001b[1m6s\u001b[0m 2ms/step - accuracy: 0.3509 - auc: 0.6766 - loss: 1.4657 - precision: 0.6255 - recall: 0.0612 - top_2_accuracy: 0.5884 - val_accuracy: 0.3839 - val_auc: 0.7055 - val_loss: 1.4265 - val_precision: 0.7555 - val_recall: 0.0532 - val_top_2_accuracy: 0.6146\n",
      "Epoch 20/50\n",
      "\u001b[1m3816/3816\u001b[0m \u001b[32m━━━━━━━━━━━━━━━━━━━━\u001b[0m\u001b[37m\u001b[0m \u001b[1m6s\u001b[0m 2ms/step - accuracy: 0.3533 - auc: 0.6790 - loss: 1.4723 - precision: 0.6297 - recall: 0.0638 - top_2_accuracy: 0.5905 - val_accuracy: 0.3864 - val_auc: 0.7097 - val_loss: 1.4205 - val_precision: 0.7670 - val_recall: 0.0549 - val_top_2_accuracy: 0.6207\n",
      "Epoch 21/50\n",
      "\u001b[1m3816/3816\u001b[0m \u001b[32m━━━━━━━━━━━━━━━━━━━━\u001b[0m\u001b[37m\u001b[0m \u001b[1m6s\u001b[0m 2ms/step - accuracy: 0.3553 - auc: 0.6802 - loss: 1.4691 - precision: 0.6239 - recall: 0.0651 - top_2_accuracy: 0.5920 - val_accuracy: 0.3870 - val_auc: 0.7102 - val_loss: 1.4181 - val_precision: 0.7347 - val_recall: 0.0645 - val_top_2_accuracy: 0.6179\n",
      "Epoch 22/50\n",
      "\u001b[1m3816/3816\u001b[0m \u001b[32m━━━━━━━━━━━━━━━━━━━━\u001b[0m\u001b[37m\u001b[0m \u001b[1m6s\u001b[0m 2ms/step - accuracy: 0.3565 - auc: 0.6813 - loss: 1.4723 - precision: 0.6289 - recall: 0.0680 - top_2_accuracy: 0.5941 - val_accuracy: 0.3861 - val_auc: 0.7100 - val_loss: 1.4167 - val_precision: 0.7494 - val_recall: 0.0631 - val_top_2_accuracy: 0.6206\n",
      "Epoch 23/50\n",
      "\u001b[1m3816/3816\u001b[0m \u001b[32m━━━━━━━━━━━━━━━━━━━━\u001b[0m\u001b[37m\u001b[0m \u001b[1m6s\u001b[0m 2ms/step - accuracy: 0.3569 - auc: 0.6819 - loss: 1.4706 - precision: 0.6287 - recall: 0.0688 - top_2_accuracy: 0.5946 - val_accuracy: 0.3923 - val_auc: 0.7121 - val_loss: 1.4133 - val_precision: 0.7469 - val_recall: 0.0608 - val_top_2_accuracy: 0.6199\n",
      "Epoch 24/50\n",
      "\u001b[1m3816/3816\u001b[0m \u001b[32m━━━━━━━━━━━━━━━━━━━━\u001b[0m\u001b[37m\u001b[0m \u001b[1m6s\u001b[0m 2ms/step - accuracy: 0.3583 - auc: 0.6840 - loss: 1.4545 - precision: 0.6311 - recall: 0.0704 - top_2_accuracy: 0.5953 - val_accuracy: 0.3936 - val_auc: 0.7132 - val_loss: 1.4112 - val_precision: 0.7542 - val_recall: 0.0590 - val_top_2_accuracy: 0.6225\n",
      "Epoch 25/50\n",
      "\u001b[1m3816/3816\u001b[0m \u001b[32m━━━━━━━━━━━━━━━━━━━━\u001b[0m\u001b[37m\u001b[0m \u001b[1m6s\u001b[0m 2ms/step - accuracy: 0.3583 - auc: 0.6846 - loss: 1.4564 - precision: 0.6336 - recall: 0.0718 - top_2_accuracy: 0.5973 - val_accuracy: 0.3938 - val_auc: 0.7154 - val_loss: 1.4085 - val_precision: 0.7435 - val_recall: 0.0716 - val_top_2_accuracy: 0.6244\n",
      "Epoch 26/50\n",
      "\u001b[1m3816/3816\u001b[0m \u001b[32m━━━━━━━━━━━━━━━━━━━━\u001b[0m\u001b[37m\u001b[0m \u001b[1m6s\u001b[0m 2ms/step - accuracy: 0.3599 - auc: 0.6851 - loss: 1.4540 - precision: 0.6295 - recall: 0.0717 - top_2_accuracy: 0.5975 - val_accuracy: 0.3967 - val_auc: 0.7161 - val_loss: 1.4051 - val_precision: 0.7589 - val_recall: 0.0688 - val_top_2_accuracy: 0.6283\n",
      "Epoch 27/50\n",
      "\u001b[1m3816/3816\u001b[0m \u001b[32m━━━━━━━━━━━━━━━━━━━━\u001b[0m\u001b[37m\u001b[0m \u001b[1m6s\u001b[0m 2ms/step - accuracy: 0.3597 - auc: 0.6856 - loss: 1.4553 - precision: 0.6334 - recall: 0.0744 - top_2_accuracy: 0.5974 - val_accuracy: 0.3967 - val_auc: 0.7174 - val_loss: 1.4012 - val_precision: 0.7502 - val_recall: 0.0740 - val_top_2_accuracy: 0.6267\n",
      "Epoch 28/50\n",
      "\u001b[1m3816/3816\u001b[0m \u001b[32m━━━━━━━━━━━━━━━━━━━━\u001b[0m\u001b[37m\u001b[0m \u001b[1m6s\u001b[0m 2ms/step - accuracy: 0.3605 - auc: 0.6863 - loss: 1.4653 - precision: 0.6294 - recall: 0.0760 - top_2_accuracy: 0.5986 - val_accuracy: 0.3974 - val_auc: 0.7197 - val_loss: 1.3979 - val_precision: 0.7467 - val_recall: 0.0721 - val_top_2_accuracy: 0.6296\n",
      "Epoch 29/50\n",
      "\u001b[1m3816/3816\u001b[0m \u001b[32m━━━━━━━━━━━━━━━━━━━━\u001b[0m\u001b[37m\u001b[0m \u001b[1m6s\u001b[0m 2ms/step - accuracy: 0.3622 - auc: 0.6874 - loss: 1.4476 - precision: 0.6296 - recall: 0.0777 - top_2_accuracy: 0.5996 - val_accuracy: 0.3992 - val_auc: 0.7193 - val_loss: 1.3981 - val_precision: 0.7440 - val_recall: 0.0776 - val_top_2_accuracy: 0.6285\n",
      "Epoch 30/50\n",
      "\u001b[1m3816/3816\u001b[0m \u001b[32m━━━━━━━━━━━━━━━━━━━━\u001b[0m\u001b[37m\u001b[0m \u001b[1m6s\u001b[0m 2ms/step - accuracy: 0.3615 - auc: 0.6885 - loss: 1.4505 - precision: 0.6300 - recall: 0.0771 - top_2_accuracy: 0.6014 - val_accuracy: 0.4018 - val_auc: 0.7192 - val_loss: 1.3972 - val_precision: 0.7537 - val_recall: 0.0750 - val_top_2_accuracy: 0.6275\n",
      "Epoch 31/50\n",
      "\u001b[1m3816/3816\u001b[0m \u001b[32m━━━━━━━━━━━━━━━━━━━━\u001b[0m\u001b[37m\u001b[0m \u001b[1m7s\u001b[0m 2ms/step - accuracy: 0.3638 - auc: 0.6888 - loss: 1.4475 - precision: 0.6303 - recall: 0.0796 - top_2_accuracy: 0.6009 - val_accuracy: 0.3988 - val_auc: 0.7207 - val_loss: 1.3941 - val_precision: 0.7729 - val_recall: 0.0724 - val_top_2_accuracy: 0.6298\n",
      "Epoch 32/50\n",
      "\u001b[1m3816/3816\u001b[0m \u001b[32m━━━━━━━━━━━━━━━━━━━━\u001b[0m\u001b[37m\u001b[0m \u001b[1m6s\u001b[0m 2ms/step - accuracy: 0.3642 - auc: 0.6894 - loss: 1.4437 - precision: 0.6306 - recall: 0.0799 - top_2_accuracy: 0.6015 - val_accuracy: 0.4047 - val_auc: 0.7222 - val_loss: 1.3922 - val_precision: 0.7638 - val_recall: 0.0783 - val_top_2_accuracy: 0.6303\n",
      "Epoch 33/50\n",
      "\u001b[1m3816/3816\u001b[0m \u001b[32m━━━━━━━━━━━━━━━━━━━━\u001b[0m\u001b[37m\u001b[0m \u001b[1m6s\u001b[0m 2ms/step - accuracy: 0.3641 - auc: 0.6897 - loss: 1.4511 - precision: 0.6341 - recall: 0.0802 - top_2_accuracy: 0.6020 - val_accuracy: 0.4074 - val_auc: 0.7233 - val_loss: 1.3911 - val_precision: 0.7805 - val_recall: 0.0743 - val_top_2_accuracy: 0.6337\n",
      "Epoch 34/50\n",
      "\u001b[1m3816/3816\u001b[0m \u001b[32m━━━━━━━━━━━━━━━━━━━━\u001b[0m\u001b[37m\u001b[0m \u001b[1m6s\u001b[0m 2ms/step - accuracy: 0.3660 - auc: 0.6910 - loss: 1.4440 - precision: 0.6344 - recall: 0.0823 - top_2_accuracy: 0.6037 - val_accuracy: 0.4049 - val_auc: 0.7234 - val_loss: 1.3899 - val_precision: 0.7731 - val_recall: 0.0839 - val_top_2_accuracy: 0.6319\n",
      "Epoch 35/50\n",
      "\u001b[1m3816/3816\u001b[0m \u001b[32m━━━━━━━━━━━━━━━━━━━━\u001b[0m\u001b[37m\u001b[0m \u001b[1m6s\u001b[0m 2ms/step - accuracy: 0.3659 - auc: 0.6905 - loss: 1.4474 - precision: 0.6319 - recall: 0.0820 - top_2_accuracy: 0.6030 - val_accuracy: 0.4090 - val_auc: 0.7240 - val_loss: 1.3870 - val_precision: 0.7704 - val_recall: 0.0791 - val_top_2_accuracy: 0.6354\n",
      "Epoch 36/50\n",
      "\u001b[1m3816/3816\u001b[0m \u001b[32m━━━━━━━━━━━━━━━━━━━━\u001b[0m\u001b[37m\u001b[0m \u001b[1m6s\u001b[0m 2ms/step - accuracy: 0.3655 - auc: 0.6914 - loss: 1.4423 - precision: 0.6340 - recall: 0.0831 - top_2_accuracy: 0.6043 - val_accuracy: 0.4061 - val_auc: 0.7227 - val_loss: 1.3900 - val_precision: 0.7727 - val_recall: 0.0759 - val_top_2_accuracy: 0.6347\n",
      "Epoch 37/50\n",
      "\u001b[1m3816/3816\u001b[0m \u001b[32m━━━━━━━━━━━━━━━━━━━━\u001b[0m\u001b[37m\u001b[0m \u001b[1m6s\u001b[0m 2ms/step - accuracy: 0.3665 - auc: 0.6924 - loss: 1.4457 - precision: 0.6293 - recall: 0.0841 - top_2_accuracy: 0.6059 - val_accuracy: 0.4083 - val_auc: 0.7258 - val_loss: 1.3841 - val_precision: 0.7790 - val_recall: 0.0808 - val_top_2_accuracy: 0.6344\n",
      "Epoch 38/50\n",
      "\u001b[1m3816/3816\u001b[0m \u001b[32m━━━━━━━━━━━━━━━━━━━━\u001b[0m\u001b[37m\u001b[0m \u001b[1m7s\u001b[0m 2ms/step - accuracy: 0.3675 - auc: 0.6925 - loss: 1.4402 - precision: 0.6349 - recall: 0.0848 - top_2_accuracy: 0.6050 - val_accuracy: 0.4053 - val_auc: 0.7248 - val_loss: 1.3842 - val_precision: 0.7683 - val_recall: 0.0825 - val_top_2_accuracy: 0.6364\n",
      "Epoch 39/50\n",
      "\u001b[1m3816/3816\u001b[0m \u001b[32m━━━━━━━━━━━━━━━━━━━━\u001b[0m\u001b[37m\u001b[0m \u001b[1m8s\u001b[0m 2ms/step - accuracy: 0.3686 - auc: 0.6925 - loss: 1.4430 - precision: 0.6383 - recall: 0.0855 - top_2_accuracy: 0.6049 - val_accuracy: 0.4059 - val_auc: 0.7257 - val_loss: 1.3855 - val_precision: 0.7655 - val_recall: 0.0841 - val_top_2_accuracy: 0.6342\n",
      "Epoch 40/50\n",
      "\u001b[1m3816/3816\u001b[0m \u001b[32m━━━━━━━━━━━━━━━━━━━━\u001b[0m\u001b[37m\u001b[0m \u001b[1m8s\u001b[0m 2ms/step - accuracy: 0.3701 - auc: 0.6937 - loss: 1.4362 - precision: 0.6354 - recall: 0.0866 - top_2_accuracy: 0.6049 - val_accuracy: 0.4083 - val_auc: 0.7273 - val_loss: 1.3805 - val_precision: 0.7740 - val_recall: 0.0877 - val_top_2_accuracy: 0.6377\n",
      "Epoch 41/50\n",
      "\u001b[1m3816/3816\u001b[0m \u001b[32m━━━━━━━━━━━━━━━━━━━━\u001b[0m\u001b[37m\u001b[0m \u001b[1m8s\u001b[0m 2ms/step - accuracy: 0.3687 - auc: 0.6943 - loss: 1.4355 - precision: 0.6343 - recall: 0.0884 - top_2_accuracy: 0.6069 - val_accuracy: 0.4109 - val_auc: 0.7275 - val_loss: 1.3815 - val_precision: 0.7769 - val_recall: 0.0846 - val_top_2_accuracy: 0.6383\n",
      "Epoch 42/50\n",
      "\u001b[1m3816/3816\u001b[0m \u001b[32m━━━━━━━━━━━━━━━━━━━━\u001b[0m\u001b[37m\u001b[0m \u001b[1m8s\u001b[0m 2ms/step - accuracy: 0.3690 - auc: 0.6943 - loss: 1.4338 - precision: 0.6345 - recall: 0.0884 - top_2_accuracy: 0.6063 - val_accuracy: 0.4120 - val_auc: 0.7295 - val_loss: 1.3758 - val_precision: 0.7821 - val_recall: 0.0843 - val_top_2_accuracy: 0.6402\n",
      "Epoch 43/50\n",
      "\u001b[1m3816/3816\u001b[0m \u001b[32m━━━━━━━━━━━━━━━━━━━━\u001b[0m\u001b[37m\u001b[0m \u001b[1m8s\u001b[0m 2ms/step - accuracy: 0.3700 - auc: 0.6954 - loss: 1.4456 - precision: 0.6348 - recall: 0.0892 - top_2_accuracy: 0.6088 - val_accuracy: 0.4109 - val_auc: 0.7283 - val_loss: 1.3786 - val_precision: 0.7735 - val_recall: 0.0848 - val_top_2_accuracy: 0.6379\n",
      "Epoch 44/50\n",
      "\u001b[1m3816/3816\u001b[0m \u001b[32m━━━━━━━━━━━━━━━━━━━━\u001b[0m\u001b[37m\u001b[0m \u001b[1m8s\u001b[0m 2ms/step - accuracy: 0.3707 - auc: 0.6958 - loss: 1.4349 - precision: 0.6413 - recall: 0.0901 - top_2_accuracy: 0.6083 - val_accuracy: 0.4148 - val_auc: 0.7305 - val_loss: 1.3746 - val_precision: 0.7842 - val_recall: 0.0874 - val_top_2_accuracy: 0.6413\n",
      "Epoch 45/50\n",
      "\u001b[1m3816/3816\u001b[0m \u001b[32m━━━━━━━━━━━━━━━━━━━━\u001b[0m\u001b[37m\u001b[0m \u001b[1m8s\u001b[0m 2ms/step - accuracy: 0.3706 - auc: 0.6959 - loss: 1.4307 - precision: 0.6366 - recall: 0.0899 - top_2_accuracy: 0.6078 - val_accuracy: 0.4168 - val_auc: 0.7324 - val_loss: 1.3705 - val_precision: 0.7726 - val_recall: 0.0951 - val_top_2_accuracy: 0.6401\n",
      "Epoch 46/50\n",
      "\u001b[1m3816/3816\u001b[0m \u001b[32m━━━━━━━━━━━━━━━━━━━━\u001b[0m\u001b[37m\u001b[0m \u001b[1m8s\u001b[0m 2ms/step - accuracy: 0.3712 - auc: 0.6964 - loss: 1.4331 - precision: 0.6343 - recall: 0.0920 - top_2_accuracy: 0.6083 - val_accuracy: 0.4052 - val_auc: 0.7304 - val_loss: 1.3771 - val_precision: 0.7792 - val_recall: 0.0926 - val_top_2_accuracy: 0.6366\n",
      "Epoch 47/50\n",
      "\u001b[1m3816/3816\u001b[0m \u001b[32m━━━━━━━━━━━━━━━━━━━━\u001b[0m\u001b[37m\u001b[0m \u001b[1m7s\u001b[0m 2ms/step - accuracy: 0.3701 - auc: 0.6963 - loss: 1.4472 - precision: 0.6356 - recall: 0.0906 - top_2_accuracy: 0.6074 - val_accuracy: 0.4166 - val_auc: 0.7318 - val_loss: 1.3719 - val_precision: 0.7770 - val_recall: 0.0915 - val_top_2_accuracy: 0.6409\n",
      "Epoch 48/50\n",
      "\u001b[1m3816/3816\u001b[0m \u001b[32m━━━━━━━━━━━━━━━━━━━━\u001b[0m\u001b[37m\u001b[0m \u001b[1m7s\u001b[0m 2ms/step - accuracy: 0.3736 - auc: 0.6977 - loss: 1.4286 - precision: 0.6373 - recall: 0.0920 - top_2_accuracy: 0.6100 - val_accuracy: 0.4163 - val_auc: 0.7322 - val_loss: 1.3705 - val_precision: 0.7664 - val_recall: 0.0966 - val_top_2_accuracy: 0.6400\n",
      "Epoch 49/50\n",
      "\u001b[1m3816/3816\u001b[0m \u001b[32m━━━━━━━━━━━━━━━━━━━━\u001b[0m\u001b[37m\u001b[0m \u001b[1m6s\u001b[0m 2ms/step - accuracy: 0.3716 - auc: 0.6970 - loss: 1.4356 - precision: 0.6308 - recall: 0.0925 - top_2_accuracy: 0.6083 - val_accuracy: 0.4171 - val_auc: 0.7341 - val_loss: 1.3659 - val_precision: 0.7577 - val_recall: 0.0983 - val_top_2_accuracy: 0.6426\n",
      "Epoch 50/50\n",
      "\u001b[1m3816/3816\u001b[0m \u001b[32m━━━━━━━━━━━━━━━━━━━━\u001b[0m\u001b[37m\u001b[0m \u001b[1m7s\u001b[0m 2ms/step - accuracy: 0.3748 - auc: 0.6990 - loss: 1.4290 - precision: 0.6355 - recall: 0.0928 - top_2_accuracy: 0.6095 - val_accuracy: 0.4154 - val_auc: 0.7333 - val_loss: 1.3704 - val_precision: 0.7722 - val_recall: 0.0958 - val_top_2_accuracy: 0.6412\n",
      "📊 Test Metrics:\n",
      "loss: 1.3692\n",
      "compile_metrics: 0.4166\n",
      "\u001b[1m1863/1863\u001b[0m \u001b[32m━━━━━━━━━━━━━━━━━━━━\u001b[0m\u001b[37m\u001b[0m \u001b[1m2s\u001b[0m 837us/step\n",
      "\n",
      "Classification Report:\n",
      "\n",
      "              precision    recall  f1-score   support\n",
      "\n",
      "           1       0.36      0.50      0.42     11923\n",
      "           2       0.48      0.66      0.55     11923\n",
      "           3       0.44      0.37      0.40     11923\n",
      "           4       0.35      0.26      0.30     11924\n",
      "           5       0.48      0.29      0.36     11923\n",
      "\n",
      "    accuracy                           0.42     59616\n",
      "   macro avg       0.42      0.42      0.41     59616\n",
      "weighted avg       0.42      0.42      0.41     59616\n",
      "\n",
      "\n",
      "Confusion Matrix:\n",
      "\n",
      "[[5942 2355 1566 1366  694]\n",
      " [2991 7870  430  402  230]\n",
      " [3027 1970 4466 1643  817]\n",
      " [2444 2254 2148 3130 1948]\n",
      " [2295 2057 1643 2501 3427]]\n"
     ]
    }
   ],
   "source": [
    "x_train, x_test, y_train, y_test = data_split(cdata_scaled, rebalance = True)\n",
    "y_train = to_categorical(y_train - 1, num_classes=5)\n",
    "y_test = to_categorical(y_test - 1, num_classes=5)\n",
    "\n",
    "\n",
    "# ------------------------------\n",
    "# 4. Build ANN Model\n",
    "# ------------------------------\n",
    "model = Sequential([\n",
    "    Dense(128, activation='relu', input_shape=(x_train.shape[1],)),\n",
    "    Dropout(0.3),\n",
    "    Dense(64, activation='relu'),\n",
    "    Dropout(0.3),\n",
    "    Dense(32, activation='relu'),\n",
    "    Dense(5, activation='softmax')  # 5 output classes\n",
    "])\n",
    "optimizer = Adam(learning_rate=0.0005) \n",
    "# ------------------------------\n",
    "# 5. Compile Model\n",
    "# ------------------------------\n",
    "model.compile(\n",
    "    optimizer=optimizer,\n",
    "    loss='categorical_crossentropy',\n",
    "    metrics=[\n",
    "        CategoricalAccuracy(name=\"accuracy\"),   # standard accuracy\n",
    "        Precision(name=\"precision\"),             # overall precision\n",
    "        Recall(name=\"recall\"),                   # overall recall\n",
    "        AUC(name=\"auc\", multi_label=True),       # macro-averaged AUC across classes\n",
    "        TopKCategoricalAccuracy(k=2, name=\"top_2_accuracy\")  # correct class in top 2\n",
    "    ]\n",
    ")\n",
    "# ------------------------------\n",
    "# 6. Train Model\n",
    "# ------------------------------\n",
    "early_stop = EarlyStopping(monitor='val_loss', patience=10, restore_best_weights=True)\n",
    "\n",
    "history = model.fit(\n",
    "    x_train, y_train,\n",
    "    validation_split=0.2,\n",
    "    epochs=50,\n",
    "    batch_size=50,\n",
    "    callbacks=[early_stop],\n",
    "    verbose=1\n",
    ")\n",
    "\n",
    "# ------------------------------\n",
    "# 7. Evaluate\n",
    "# ------------------------------\n",
    "results = model.evaluate(x_test, y_test, verbose=0)\n",
    "print(\"📊 Test Metrics:\")\n",
    "for name, value in zip(model.metrics_names, results):\n",
    "    print(f\"{name}: {value:.4f}\")\n",
    "\n",
    "\n",
    "# ------------------------------\n",
    "# 8. Classification Report\n",
    "# ------------------------------\n",
    "y_pred = np.argmax(model.predict(x_test), axis=1)\n",
    "y_true = np.argmax(y_test, axis=1)\n",
    "\n",
    "print(\"\\nClassification Report:\\n\")\n",
    "print(classification_report(y_true, y_pred, target_names=[str(i) for i in range(1, 6)]))\n",
    "\n",
    "print(\"\\nConfusion Matrix:\\n\")\n",
    "print(confusion_matrix(y_true, y_pred))\n"
   ]
  },
  {
   "cell_type": "markdown",
   "id": "3c2c6e93",
   "metadata": {},
   "source": [
    "#### Tab Net"
   ]
  },
  {
   "cell_type": "code",
   "execution_count": 44,
   "id": "8fdca250",
   "metadata": {},
   "outputs": [
    {
     "data": {
      "text/plain": [
       "(85906, 16)"
      ]
     },
     "execution_count": 44,
     "metadata": {},
     "output_type": "execute_result"
    }
   ],
   "source": [
    "cdata.shape"
   ]
  },
  {
   "cell_type": "code",
   "execution_count": 45,
   "id": "200d3379",
   "metadata": {},
   "outputs": [
    {
     "name": "stdout",
     "output_type": "stream",
     "text": [
      "epoch 0  | loss: 6.44928 | test_accuracy: 0.20122 |  0:02:20s\n",
      "epoch 2  | loss: 3.87265 | test_accuracy: 0.1821  |  0:06:35s\n",
      "epoch 4  | loss: 2.41803 | test_accuracy: 0.19785 |  0:10:50s\n",
      "epoch 6  | loss: 1.70171 | test_accuracy: 0.24507 |  0:15:08s\n",
      "epoch 8  | loss: 1.58395 | test_accuracy: 0.26151 |  0:19:22s\n",
      "epoch 10 | loss: 1.57132 | test_accuracy: 0.27474 |  0:23:36s\n",
      "epoch 12 | loss: 1.565   | test_accuracy: 0.2857  |  0:27:29s\n",
      "epoch 14 | loss: 1.56496 | test_accuracy: 0.28041 |  0:31:30s\n",
      "epoch 16 | loss: 1.551   | test_accuracy: 0.28541 |  0:36:12s\n",
      "epoch 18 | loss: 1.54942 | test_accuracy: 0.29086 |  0:41:02s\n",
      "epoch 20 | loss: 1.53759 | test_accuracy: 0.29776 |  0:45:35s\n",
      "epoch 22 | loss: 1.5382  | test_accuracy: 0.29675 |  0:50:00s\n",
      "epoch 24 | loss: 1.53452 | test_accuracy: 0.30233 |  0:54:29s\n",
      "epoch 26 | loss: 1.52896 | test_accuracy: 0.3022  |  0:59:24s\n",
      "epoch 28 | loss: 1.52659 | test_accuracy: 0.30795 |  1:04:07s\n",
      "epoch 30 | loss: 1.5275  | test_accuracy: 0.30802 |  1:08:35s\n",
      "epoch 32 | loss: 1.52401 | test_accuracy: 0.30668 |  1:12:50s\n",
      "epoch 34 | loss: 1.52301 | test_accuracy: 0.30504 |  1:17:08s\n",
      "epoch 36 | loss: 1.52035 | test_accuracy: 0.31034 |  1:21:27s\n",
      "epoch 38 | loss: 1.52158 | test_accuracy: 0.30891 |  1:25:41s\n",
      "epoch 40 | loss: 1.52049 | test_accuracy: 0.31186 |  1:29:51s\n",
      "epoch 42 | loss: 1.5166  | test_accuracy: 0.31451 |  1:34:03s\n",
      "epoch 44 | loss: 1.51827 | test_accuracy: 0.30507 |  1:38:11s\n",
      "epoch 46 | loss: 1.51276 | test_accuracy: 0.31029 |  1:42:16s\n",
      "epoch 48 | loss: 1.51442 | test_accuracy: 0.31619 |  1:47:31s\n",
      "epoch 50 | loss: 1.51462 | test_accuracy: 0.31555 |  1:52:03s\n",
      "epoch 52 | loss: 1.51264 | test_accuracy: 0.31812 |  1:56:17s\n",
      "epoch 54 | loss: 1.51573 | test_accuracy: 0.31471 |  2:00:37s\n",
      "epoch 56 | loss: 1.51369 | test_accuracy: 0.30948 |  2:05:03s\n",
      "epoch 58 | loss: 1.51722 | test_accuracy: 0.31361 |  2:09:33s\n",
      "epoch 60 | loss: 1.5142  | test_accuracy: 0.31299 |  2:14:09s\n",
      "epoch 62 | loss: 1.51715 | test_accuracy: 0.31705 |  2:18:51s\n",
      "epoch 64 | loss: 1.51725 | test_accuracy: 0.31243 |  2:23:15s\n",
      "epoch 66 | loss: 1.51742 | test_accuracy: 0.30787 |  2:27:42s\n",
      "epoch 68 | loss: 1.52704 | test_accuracy: 0.30574 |  2:32:36s\n",
      "epoch 70 | loss: 1.52287 | test_accuracy: 0.30769 |  2:37:05s\n",
      "epoch 72 | loss: 1.52081 | test_accuracy: 0.31216 |  2:41:18s\n",
      "\n",
      "Early stopping occurred at epoch 72 with best_epoch = 52 and best_test_accuracy = 0.31812\n",
      "Accuracy: 0.31811929683306495\n",
      "              precision    recall  f1-score   support\n",
      "\n",
      "           1       0.42      0.42      0.42     11923\n",
      "           2       0.30      0.21      0.24     11923\n",
      "           3       0.25      0.23      0.24     11923\n",
      "           4       0.25      0.18      0.21     11924\n",
      "           5       0.33      0.55      0.41     11923\n",
      "\n",
      "    accuracy                           0.32     59616\n",
      "   macro avg       0.31      0.32      0.31     59616\n",
      "weighted avg       0.31      0.32      0.31     59616\n",
      "\n"
     ]
    }
   ],
   "source": [
    "from pytorch_tabnet.tab_model import TabNetClassifier\n",
    "from sklearn.model_selection import train_test_split\n",
    "from sklearn.metrics import classification_report, accuracy_score\n",
    "import torch\n",
    "\n",
    "\n",
    "x_train, x_test, y_train, y_test = data_split(cdata_scaled, rebalance = True)\n",
    "\n",
    "\n",
    "X_train, X_test = x_train.values, x_test.values\n",
    "y_train, y_test = y_train.values, y_test.values\n",
    "\n",
    "# Define TabNet classifier\n",
    "clf = TabNetClassifier(\n",
    "    n_d=16,                 # Dimension of decision prediction layer\n",
    "    n_a=16,                 # Dimension of attention layer\n",
    "    n_steps=15,              # Number of decision steps\n",
    "    gamma=1.5,              # Relaxation parameter\n",
    "    n_independent=8,\n",
    "    n_shared=2,\n",
    "    lambda_sparse=1e-4,     # Sparsity regularization\n",
    "    optimizer_fn=torch.optim.Adam,\n",
    "    optimizer_params=dict(lr=1e-3),\n",
    "    mask_type='sparsemax',  # or 'entmax'\n",
    "    verbose=2\n",
    ")\n",
    "\n",
    "# Train model\n",
    "clf.fit(\n",
    "    X_train=X_train, y_train=y_train,\n",
    "    eval_set=[(X_test, y_test)],\n",
    "    eval_name=[\"test\"],\n",
    "    eval_metric=[\"accuracy\"],\n",
    "    max_epochs=200,\n",
    "    patience=20,\n",
    "    batch_size=1024,\n",
    "    virtual_batch_size=128,\n",
    "    num_workers=4,\n",
    "    drop_last=False\n",
    ")\n",
    "\n",
    "# Evaluate\n",
    "y_pred = clf.predict(X_test)\n",
    "print(\"Accuracy:\", accuracy_score(y_test, y_pred))\n",
    "print(classification_report(y_test, y_pred))"
   ]
  }
 ],
 "metadata": {
  "kernelspec": {
   "display_name": "csat",
   "language": "python",
   "name": "python3"
  },
  "language_info": {
   "codemirror_mode": {
    "name": "ipython",
    "version": 3
   },
   "file_extension": ".py",
   "mimetype": "text/x-python",
   "name": "python",
   "nbconvert_exporter": "python",
   "pygments_lexer": "ipython3",
   "version": "3.12.6"
  }
 },
 "nbformat": 4,
 "nbformat_minor": 5
}
